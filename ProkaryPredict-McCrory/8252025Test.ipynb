{
 "cells": [
  {
   "cell_type": "code",
   "execution_count": 4,
   "id": "b82be954-ef6c-4189-915d-b38da8ae93b0",
   "metadata": {},
   "outputs": [
    {
     "ename": "SyntaxError",
     "evalue": "invalid syntax (1064430715.py, line 4)",
     "output_type": "error",
     "traceback": [
      "  \u001b[36mCell\u001b[39m\u001b[36m \u001b[39m\u001b[32mIn[4]\u001b[39m\u001b[32m, line 4\u001b[39m\n\u001b[31m    \u001b[39m\u001b[31mexcept ImportError:\u001b[39m\n    ^\n\u001b[31mSyntaxError\u001b[39m\u001b[31m:\u001b[39m invalid syntax\n"
     ]
    }
   ],
   "source": [
    "#Test Biopython\n",
    "import Bio\n",
    "print(\"Biopython is installed.Version:\",Bio.___version___)\n",
    "except ImportError:\n",
    "    print(\"Biopython is NOT installed.\")"
   ]
  },
  {
   "cell_type": "code",
   "execution_count": 5,
   "id": "efeb0d95-ff58-4152-8069-0e6910b143de",
   "metadata": {},
   "outputs": [
    {
     "name": "stdout",
     "output_type": "stream",
     "text": [
      "Biopython is installed. Version: 1.85\n",
      "COBRApy is installed. Version: 0.29.1\n"
     ]
    }
   ],
   "source": [
    "# Test Biopython\n",
    "try:\n",
    "    import Bio\n",
    "    print(\"Biopython is installed. Version:\", Bio.__version__)\n",
    "except ImportError:\n",
    "    print(\"Biopython is NOT installed.\")\n",
    "\n",
    "# Test COBRApy\n",
    "try:\n",
    "    import cobra\n",
    "    print(\"COBRApy is installed. Version:\", cobra.__version__)\n",
    "except ImportError:\n",
    "    print(\"COBRApy is NOT installed.\")\n"
   ]
  },
  {
   "cell_type": "code",
   "execution_count": null,
   "id": "86f6d680-2cad-4331-8909-85a77825d191",
   "metadata": {},
   "outputs": [],
   "source": []
  }
 ],
 "metadata": {
  "kernelspec": {
   "display_name": "Python 3 (ipykernel)",
   "language": "python",
   "name": "python3"
  },
  "language_info": {
   "codemirror_mode": {
    "name": "ipython",
    "version": 3
   },
   "file_extension": ".py",
   "mimetype": "text/x-python",
   "name": "python",
   "nbconvert_exporter": "python",
   "pygments_lexer": "ipython3",
   "version": "3.13.7"
  }
 },
 "nbformat": 4,
 "nbformat_minor": 5
}
