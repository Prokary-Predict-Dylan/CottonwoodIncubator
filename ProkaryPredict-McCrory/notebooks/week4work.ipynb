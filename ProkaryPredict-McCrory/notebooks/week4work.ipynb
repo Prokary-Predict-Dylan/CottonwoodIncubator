{
 "cells": [
  {
   "cell_type": "code",
   "execution_count": 1,
   "id": "96bfdb9c-649d-41cf-a011-c0186b645797",
   "metadata": {},
   "outputs": [
    {
     "name": "stderr",
     "output_type": "stream",
     "text": [
      "No objective coefficients in model. Unclear what should be optimized\n"
     ]
    },
    {
     "name": "stdout",
     "output_type": "stream",
     "text": [
      "✅ GEM loaded successfully!\n",
      "Reactions: 1044\n",
      "Metabolites: 928\n",
      "Genes: 816\n"
     ]
    }
   ],
   "source": [
    "import cobra\n",
    "\n",
    "model_path = r\"C:\\Users\\DBAMK\\Documents\\ProkaryPredict\\CottonwoodIncubator\\ProkaryPredict-McCrory\\data\\iSynCJ816.xml\"\n",
    "\n",
    "try:\n",
    "    model = cobra.io.read_sbml_model(model_path)\n",
    "    print(\"✅ GEM loaded successfully!\")\n",
    "    print(\"Reactions:\", len(model.reactions))\n",
    "    print(\"Metabolites:\", len(model.metabolites))\n",
    "    print(\"Genes:\", len(model.genes))\n",
    "except Exception as e:\n",
    "    print(\"❌ Not a valid GEM or cannot be read:\", e)"
   ]
  },
  {
   "cell_type": "code",
   "execution_count": 2,
   "id": "9204f0a2-6358-4d87-914c-4c7218cfc433",
   "metadata": {},
   "outputs": [
    {
     "name": "stdout",
     "output_type": "stream",
     "text": [
      "✅ Mapping saved with 2083 gene–reaction pairs\n"
     ]
    }
   ],
   "source": [
    "import pandas as pd\n",
    "\n",
    "# Map each gene to the reactions it controls\n",
    "mapping = []\n",
    "for rxn in model.reactions:\n",
    "    for gene in rxn.genes:\n",
    "        mapping.append({\n",
    "            \"gene_id\": gene.id,\n",
    "            \"reaction_id\": rxn.id,\n",
    "            \"reaction_name\": rxn.name,\n",
    "            \"reaction_equation\": rxn.reaction\n",
    "        })\n",
    "\n",
    "# Save to CSV\n",
    "mapping_df = pd.DataFrame(mapping)\n",
    "mapping_df.to_csv(r\"C:\\Users\\DBAMK\\Documents\\ProkaryPredict\\CottonwoodIncubator\\ProkaryPredict-McCrory\\results\\gene_reaction_map.csv\", index=False)\n",
    "print(f\"✅ Mapping saved with {len(mapping_df)} gene–reaction pairs\")"
   ]
  },
  {
   "cell_type": "code",
   "execution_count": 3,
   "id": "6fa6f754-ed71-4086-8e4a-1dc168ddbb41",
   "metadata": {},
   "outputs": [
    {
     "name": "stdout",
     "output_type": "stream",
     "text": [
      "WT Growth Rate: 0.0\n",
      "KO Growth Rate after knocking out SGL_RS03435: 0.0\n"
     ]
    }
   ],
   "source": [
    "# Wild-type growth\n",
    "growth_wt = model.optimize().objective_value\n",
    "print(\"WT Growth Rate:\", growth_wt)\n",
    "\n",
    "# Pick a gene (example: first gene in the mapping)\n",
    "gene_to_knockout = mapping_df[\"gene_id\"].iloc[0]\n",
    "\n",
    "# Knockout the gene by disabling reactions it controls\n",
    "with model:\n",
    "    gene = model.genes.get_by_id(gene_to_knockout)\n",
    "    for rxn in gene.reactions:\n",
    "        rxn.knock_out()\n",
    "    growth_ko = model.optimize().objective_value\n",
    "\n",
    "print(f\"KO Growth Rate after knocking out {gene_to_knockout}:\", growth_ko)"
   ]
  },
  {
   "cell_type": "code",
   "execution_count": 4,
   "id": "52706460-0556-43eb-ada0-fb0a1b348a90",
   "metadata": {},
   "outputs": [
    {
     "name": "stdout",
     "output_type": "stream",
     "text": [
      "Solver status: optimal\n",
      "Objective value: 0.0\n",
      "Model objective expression: 0\n"
     ]
    }
   ],
   "source": [
    "solution = model.optimize()\n",
    "print(\"Solver status:\", solution.status)\n",
    "print(\"Objective value:\", solution.objective_value)\n",
    "print(\"Model objective expression:\", model.objective.expression)"
   ]
  },
  {
   "cell_type": "code",
   "execution_count": 5,
   "id": "a10c3c6b-4d38-4298-a3b6-14c6646bc297",
   "metadata": {},
   "outputs": [
    {
     "name": "stdout",
     "output_type": "stream",
     "text": [
      "Biomass candidates: ['BIOMASS_Ec_SynAuto_1', 'BIOMASS_Ec_SynMixo_1', 'BIOMASS_Ec_SynHetero_1']\n",
      "----\n",
      "ID: BIOMASS_Ec_SynAuto_1\n",
      "Name: Autotrophic Biomass Growth\n",
      "Equation: 0.000223 10fthf_c + 0.000223 5mthf_c + 0.000279 accoa_c + 0.000223 adocbl_c + 0.39075 ala__L_c + 0.000223 amet_c + 0.23195 arg__L_c + 0.18658 asn__L_c + 0.23149 asp__L_c + 53.4862 atp_c + 0.00026324 avite1_c + 1.4478e-05 bvite_c + 0.004512 ca2_c + 0.0034222 caro_c + 0.021191 cholphya_c + 0.000223 chor_c + 0.0001675 coa_c + 0.0030293 cobalt2_c + 0.1241 ctp_c + 0.003008 cu2_c + 0.045834 cys__L_c + 0.026311 datp_c + 0.024022 dctp_c + 0.020767 dgdg160_c + 0.0015338 dgdg161_c + 0.0003552 dgdg180_c + 0.00046418 dgdg181_9_c + 0.00046418 dgdg181_c + 0.0053017 dgdg182_9_12_c + 0.011532 dgdg183_6_9_12_c + 0.00015136 dgdg183_9_12_15_c + 0.00062563 dgdg184_6_9_12_15_c + 0.024092 dgtp_c + 0.00022376 dtocophe_c + 0.026402 dttp_c + 0.025228 e11_p + 0.0025182 echin_c + 0.0002233 fad_c + 0.006816 fe2_c + 0.006816 fe3_c + 0.0016142 gcarote_c + 0.25602 gln__L_c + 0.27871 glu__L_c + 0.33982 gly_c + 0.21031 glycogen_c + 0.000223 gthrd_c + 1.4478e-05 gtocophe_c + 0.13259 gtp_c + 48.7499 h2o_c + 0.000223 hemeA_c + 0.000223 hemeO_c + 0.085649 his__L_c + 0.28889 ile__L_c + 0.1692 k_c + 0.52501 leu__L_c + 0.025228 lipidAds_c + 0.1926 lys__L_c + 3.1267e-05 malcoa_c + 0.090279 met__L_c + 0.0075733 mg2_c + 0.030329 mgdg160_c + 0.0017653 mgdg161_c + 7.8137e-05 mgdg180_c + 0.00072349 mgdg181_9_c + 0.00072349 mgdg181_c + 0.0096572 mgdg182_9_12_c + 0.014397 mgdg183_6_9_12_c + 7.2349e-05 mgdg183_9_12_15_c + 0.00043409 mgdg184_6_9_12_15_c + 0.0002233 mlthf_c + 0.003029 mn2_c + 0.0030293 mobd_c + 0.003787 na1_c + 0.0017867 nad_c + 4.4667e-05 nadh_c + 0.00011167 nadp_c + 0.000335 nadph_c + 0.01136 nh4_c + 0.0079965 pg160_c + 0.00013632 pg161_c + 0.00027416 pg180_c + 0.00051025 pg181_9_c + 0.00051025 pg181_c + 0.0051823 pg182_9_12_c + 1e-06 pg183_6_9_12_c + 0.0012947 pg183_9_12_15_c + 1e-06 pg184_6_9_12_15_c + 0.18473 phe__L_c + 0.00022333 pheme_c + 0.0016444 phllqne_c + 0.23611 pro__L_c + 0.03327 ptrc_c + 0.00022333 ribflv_c + 0.26713 ser__L_c + 0.003787 so4_c + 0.0067443 spmd_c + 0.023887 sqdg160_c + 0.0027596 sqdg161_c + 0.00052434 sqdg180_c + 0.0030684 sqdg181_9_c + 0.0030684 sqdg181_c + 0.0081564 sqdg182_9_12_c + 0.00025246 sqdg183_6_9_12_c + 0.00034956 sqdg183_9_12_15_c + 1e-06 sqdg184_6_9_12_15_c + 9.8267e-05 succoa_c + 0.00022333 thf_c + 0.25278 thr__L_c + 0.071297 trp__L_c + 0.13426 tyr__L_c + 5.353e-05 udcpdp_c + 0.13735 utp_c + 0.31019 val__L_c + 0.0029056 zeax_c + 0.003008 zn2_c --> 53.35 adp_c + 53.35 h_c + 53.3462 pi_c + 0.63107 ppi_c\n",
      "Bounds: 0.0 999999.0\n",
      "----\n",
      "ID: BIOMASS_Ec_SynMixo_1\n",
      "Name: Mixotrophic Biomass Growth\n",
      "Equation: 0.000223 10fthf_c + 0.000223 5mthf_c + 0.000279 accoa_c + 0.000223 adocbl_c + 0.39075 ala__L_c + 0.000223 amet_c + 0.23195 arg__L_c + 0.18658 asn__L_c + 0.23149 asp__L_c + 38.5262 atp_c + 0.00026324 avite1_c + 1.4478e-05 bvite_c + 0.004512 ca2_c + 0.0034222 caro_c + 0.021191 cholphya_c + 0.000223 chor_c + 0.0001675 coa_c + 0.0030293 cobalt2_c + 0.1241 ctp_c + 0.003008 cu2_c + 0.045834 cys__L_c + 0.026311 datp_c + 0.024022 dctp_c + 0.020767 dgdg160_c + 0.0015338 dgdg161_c + 0.0003552 dgdg180_c + 0.00046418 dgdg181_9_c + 0.00046418 dgdg181_c + 0.0053017 dgdg182_9_12_c + 0.011532 dgdg183_6_9_12_c + 0.00015136 dgdg183_9_12_15_c + 0.00062563 dgdg184_6_9_12_15_c + 0.024092 dgtp_c + 0.00022376 dtocophe_c + 0.026402 dttp_c + 0.025228 e11_p + 0.0025182 echin_c + 0.0002233 fad_c + 0.006816 fe2_c + 0.006816 fe3_c + 0.0016142 gcarote_c + 0.25602 gln__L_c + 0.27871 glu__L_c + 0.33982 gly_c + 0.000223 gthrd_c + 1.4478e-05 gtocophe_c + 0.13259 gtp_c + 33.7899 h2o_c + 0.000223 hemeA_c + 0.000223 hemeO_c + 0.085649 his__L_c + 0.28889 ile__L_c + 0.1692 k_c + 0.52501 leu__L_c + 0.025228 lipidAds_c + 0.1926 lys__L_c + 3.1267e-05 malcoa_c + 0.090279 met__L_c + 0.0075733 mg2_c + 0.030329 mgdg160_c + 0.0017653 mgdg161_c + 7.8137e-05 mgdg180_c + 0.00072349 mgdg181_9_c + 0.00072349 mgdg181_c + 0.0096572 mgdg182_9_12_c + 0.014397 mgdg183_6_9_12_c + 7.2349e-05 mgdg183_9_12_15_c + 0.00043409 mgdg184_6_9_12_15_c + 0.0002233 mlthf_c + 0.003029 mn2_c + 0.0030293 mobd_c + 0.003787 na1_c + 0.0017867 nad_c + 4.4667e-05 nadh_c + 0.00011167 nadp_c + 0.000335 nadph_c + 0.01136 nh4_c + 0.0079965 pg160_c + 0.00013632 pg161_c + 0.00027416 pg180_c + 0.00051025 pg181_9_c + 0.00051025 pg181_c + 0.0051823 pg182_9_12_c + 1e-06 pg183_6_9_12_c + 0.0012947 pg183_9_12_15_c + 1e-06 pg184_6_9_12_15_c + 0.18473 phe__L_c + 0.00022333 pheme_c + 0.0016444 phllqne_c + 0.23611 pro__L_c + 0.03327 ptrc_c + 0.00022333 ribflv_c + 0.26713 ser__L_c + 0.003787 so4_c + 0.0067443 spmd_c + 0.023887 sqdg160_c + 0.0027596 sqdg161_c + 0.00052434 sqdg180_c + 0.0030684 sqdg181_9_c + 0.0030684 sqdg181_c + 0.0081564 sqdg182_9_12_c + 0.00025246 sqdg183_6_9_12_c + 0.00034956 sqdg183_9_12_15_c + 1e-06 sqdg184_6_9_12_15_c + 9.8267e-05 succoa_c + 0.00022333 thf_c + 0.25278 thr__L_c + 0.071297 trp__L_c + 0.13426 tyr__L_c + 5.353e-05 udcpdp_c + 0.13735 utp_c + 0.31019 val__L_c + 0.0029056 zeax_c + 0.003008 zn2_c --> 38.39 adp_c + 38.39 h_c + 38.3862 pi_c + 0.63107 ppi_c\n",
      "Bounds: 0.0 999999.0\n",
      "----\n",
      "ID: BIOMASS_Ec_SynHetero_1\n",
      "Name: Heterotrophic Biomass Growth\n",
      "Equation: 0.000223 10fthf_c + 0.000223 5mthf_c + 0.000279 accoa_c + 0.000223 adocbl_c + 0.39075 ala__L_c + 0.000223 amet_c + 0.23195 arg__L_c + 0.18658 asn__L_c + 0.23149 asp__L_c + 39.3462 atp_c + 0.00026324 avite1_c + 1.4478e-05 bvite_c + 0.004512 ca2_c + 0.0034222 caro_c + 0.021191 cholphya_c + 0.000223 chor_c + 0.0001675 coa_c + 0.0030293 cobalt2_c + 0.1241 ctp_c + 0.003008 cu2_c + 0.045834 cys__L_c + 0.026311 datp_c + 0.024022 dctp_c + 0.020767 dgdg160_c + 0.0015338 dgdg161_c + 0.0003552 dgdg180_c + 0.00046418 dgdg181_9_c + 0.00046418 dgdg181_c + 0.0053017 dgdg182_9_12_c + 0.011532 dgdg183_6_9_12_c + 0.00015136 dgdg183_9_12_15_c + 0.00062563 dgdg184_6_9_12_15_c + 0.024092 dgtp_c + 0.00022376 dtocophe_c + 0.026402 dttp_c + 0.025228 e11_p + 0.0025182 echin_c + 0.0002233 fad_c + 0.006816 fe2_c + 0.006816 fe3_c + 0.0016142 gcarote_c + 0.25602 gln__L_c + 0.27871 glu__L_c + 0.33982 gly_c + 0.000223 gthrd_c + 1.4478e-05 gtocophe_c + 0.13259 gtp_c + 34.6099 h2o_c + 0.000223 hemeA_c + 0.000223 hemeO_c + 0.085649 his__L_c + 0.28889 ile__L_c + 0.1692 k_c + 0.52501 leu__L_c + 0.025228 lipidAds_c + 0.1926 lys__L_c + 3.1267e-05 malcoa_c + 0.090279 met__L_c + 0.0075733 mg2_c + 0.030329 mgdg160_c + 0.0017653 mgdg161_c + 7.8137e-05 mgdg180_c + 0.00072349 mgdg181_9_c + 0.00072349 mgdg181_c + 0.0096572 mgdg182_9_12_c + 0.014397 mgdg183_6_9_12_c + 7.2349e-05 mgdg183_9_12_15_c + 0.00043409 mgdg184_6_9_12_15_c + 0.0002233 mlthf_c + 0.003029 mn2_c + 0.0030293 mobd_c + 0.003787 na1_c + 0.0017867 nad_c + 4.4667e-05 nadh_c + 0.00011167 nadp_c + 0.000335 nadph_c + 0.01136 nh4_c + 0.0079965 pg160_c + 0.00013632 pg161_c + 0.00027416 pg180_c + 0.00051025 pg181_9_c + 0.00051025 pg181_c + 0.0051823 pg182_9_12_c + 1e-06 pg183_6_9_12_c + 0.0012947 pg183_9_12_15_c + 1e-06 pg184_6_9_12_15_c + 0.18473 phe__L_c + 0.00022333 pheme_c + 0.0016444 phllqne_c + 0.23611 pro__L_c + 0.03327 ptrc_c + 0.00022333 ribflv_c + 0.26713 ser__L_c + 0.003787 so4_c + 0.0067443 spmd_c + 0.023887 sqdg160_c + 0.0027596 sqdg161_c + 0.00052434 sqdg180_c + 0.0030684 sqdg181_9_c + 0.0030684 sqdg181_c + 0.0081564 sqdg182_9_12_c + 0.00025246 sqdg183_6_9_12_c + 0.00034956 sqdg183_9_12_15_c + 1e-06 sqdg184_6_9_12_15_c + 9.8267e-05 succoa_c + 0.00022333 thf_c + 0.25278 thr__L_c + 0.071297 trp__L_c + 0.13426 tyr__L_c + 5.353e-05 udcpdp_c + 0.13735 utp_c + 0.31019 val__L_c + 0.0029056 zeax_c + 0.003008 zn2_c --> 39.21 adp_c + 39.21 h_c + 39.2062 pi_c + 0.63107 ppi_c\n",
      "Bounds: 0.0 999999.0\n"
     ]
    }
   ],
   "source": [
    "biomass_candidates = [r for r in model.reactions\n",
    "                      if 'biomass' in r.id.lower() or 'biomass' in (r.name or '').lower()]\n",
    "\n",
    "print(\"Biomass candidates:\", [r.id for r in biomass_candidates])\n",
    "\n",
    "for r in biomass_candidates:\n",
    "    print(\"----\")\n",
    "    print(\"ID:\", r.id)\n",
    "    print(\"Name:\", r.name)\n",
    "    print(\"Equation:\", r.reaction)\n",
    "    print(\"Bounds:\", r.lower_bound, r.upper_bound)\n"
   ]
  },
  {
   "cell_type": "code",
   "execution_count": null,
   "id": "98d48af0-fb10-41eb-a6ce-964f0ee00a7c",
   "metadata": {},
   "outputs": [],
   "source": []
  }
 ],
 "metadata": {
  "kernelspec": {
   "display_name": "Python 3 (ipykernel)",
   "language": "python",
   "name": "python3"
  },
  "language_info": {
   "codemirror_mode": {
    "name": "ipython",
    "version": 3
   },
   "file_extension": ".py",
   "mimetype": "text/x-python",
   "name": "python",
   "nbconvert_exporter": "python",
   "pygments_lexer": "ipython3",
   "version": "3.13.7"
  }
 },
 "nbformat": 4,
 "nbformat_minor": 5
}
