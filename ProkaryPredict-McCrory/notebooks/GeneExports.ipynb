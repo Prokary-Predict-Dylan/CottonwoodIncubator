{
 "cells": [
  {
   "cell_type": "code",
   "execution_count": 8,
   "id": "d6619a55-51e4-4ea9-9913-27e28c74de48",
   "metadata": {},
   "outputs": [
    {
     "name": "stdout",
     "output_type": "stream",
     "text": [
      "Saved gene info to: C:\\Users\\DBAMK\\Documents\\ProkaryPredict\\CottonwoodIncubator\\ProkaryPredict-McCrory\\data\\GCA_000009725.1\\GCA_000009725.1_ASM972v1_genomic.fna\n"
     ]
    }
   ],
   "source": [
    "from Bio import SeqIO\n",
    "import pandas as pd\n",
    "\n",
    "# Use the full absolute path\n",
    "fasta_path = r\"C:\\Users\\DBAMK\\Documents\\ProkaryPredict\\CottonwoodIncubator\\ProkaryPredict-McCrory\\data\\GCA_000009725.1\\GCA_000009725.1_ASM972v1_genomic.fna\"\n",
    "\n",
    "# Parse the FNA file as FASTA\n",
    "records = list(SeqIO.parse(fasta_path, \"fasta\"))\n",
    "\n",
    "# Extract gene IDs and lengths\n",
    "gene_data = [{\"gene_id\": rec.id, \"length\": len(rec.seq)} for rec in records]\n",
    "\n",
    "# Save to CSV in same project folder to avoid permissions issues\n",
    "output_path = r\"C:\\Users\\DBAMK\\Documents\\ProkaryPredict\\CottonwoodIncubator\\ProkaryPredict-McCrory\\data\\GCA_000009725.1\\GCA_000009725.1_ASM972v1_genomic.fna\"\n",
    "pd.DataFrame(gene_data).to_csv(output_path, index=False)\n",
    "\n",
    "print(\"Saved gene info to:\", output_path)"
   ]
  },
  {
   "cell_type": "code",
   "execution_count": null,
   "id": "5a04e36a-0177-4224-936b-6f478f017f2a",
   "metadata": {},
   "outputs": [],
   "source": []
  }
 ],
 "metadata": {
  "kernelspec": {
   "display_name": "Python 3 (ipykernel)",
   "language": "python",
   "name": "python3"
  },
  "language_info": {
   "codemirror_mode": {
    "name": "ipython",
    "version": 3
   },
   "file_extension": ".py",
   "mimetype": "text/x-python",
   "name": "python",
   "nbconvert_exporter": "python",
   "pygments_lexer": "ipython3",
   "version": "3.13.7"
  }
 },
 "nbformat": 4,
 "nbformat_minor": 5
}
