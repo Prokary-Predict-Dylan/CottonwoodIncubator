{
 "cells": [
  {
   "cell_type": "code",
   "execution_count": 1,
   "id": "2d6534c6-9259-4719-ab58-67dec09679a8",
   "metadata": {},
   "outputs": [
    {
     "name": "stderr",
     "output_type": "stream",
     "text": [
      "No objective coefficients in model. Unclear what should be optimized\n"
     ]
    },
    {
     "name": "stdout",
     "output_type": "stream",
     "text": [
      "Biomass reactions found: ['BIOMASS_Ec_SynAuto_1', 'BIOMASS_Ec_SynMixo_1', 'BIOMASS_Ec_SynHetero_1']\n"
     ]
    }
   ],
   "source": [
    "import cobra\n",
    "\n",
    "model_path = r\"C:\\Users\\DBAMK\\Documents\\ProkaryPredict\\CottonwoodIncubator\\ProkaryPredict-McCrory\\data\\iSynCJ816.xml\"\n",
    "model = cobra.io.read_sbml_model(model_path)\n",
    "\n",
    "biomass_rxns = [r for r in model.reactions if \"biomass\" in r.id.lower() or \"biomass\" in (r.name or \"\").lower()]\n",
    "print(\"Biomass reactions found:\", [r.id for r in biomass_rxns])"
   ]
  },
  {
   "cell_type": "code",
   "execution_count": 2,
   "id": "aeaf7efe-b652-47bb-89a5-fbb4a64db17b",
   "metadata": {
    "jupyter": {
     "source_hidden": true
    }
   },
   "outputs": [
    {
     "name": "stdout",
     "output_type": "stream",
     "text": [
      "WT Growth: 0.07653046659469502\n"
     ]
    }
   ],
   "source": [
    "if biomass_rxns:\n",
    "    model.objective = biomass_rxns[0]\n",
    "    sol = model.optimize()\n",
    "    print(\"WT Growth:\", sol.objective_value)\n"
   ]
  },
  {
   "cell_type": "code",
   "execution_count": 3,
   "id": "6bb852bf-7951-426c-b6c1-08a53d01221c",
   "metadata": {},
   "outputs": [
    {
     "name": "stdout",
     "output_type": "stream",
     "text": [
      "WT Growth after opening exchanges: 1.6579776821461234\n"
     ]
    }
   ],
   "source": [
    "for rxn in model.exchanges:\n",
    "    rxn.lower_bound = -10  # allow uptake\n",
    "print(\"WT Growth after opening exchanges:\", model.optimize().objective_value)"
   ]
  },
  {
   "cell_type": "code",
   "execution_count": 6,
   "id": "e83b325e-fafa-414b-a910-0f23f131a985",
   "metadata": {},
   "outputs": [],
   "source": [
    "import pandas as pd\n",
    "\n",
    "def simulate_knockout(model, gene_id):\n",
    "    wt = model.optimize().objective_value\n",
    "    with model:\n",
    "        try:\n",
    "            gene = model.genes.get_by_id(gene_id)\n",
    "            for rxn in gene.reactions:\n",
    "                rxn.knock_out()\n",
    "            ko = model.optimize().objective_value\n",
    "            pct = ((ko - wt) / wt * 100) if wt else None\n",
    "            return wt, ko, pct\n",
    "        except KeyError:\n",
    "            return wt, None, None"
   ]
  },
  {
   "cell_type": "code",
   "execution_count": 7,
   "id": "a4f70daf-6a80-4dd0-a0b3-8f211f943012",
   "metadata": {},
   "outputs": [
    {
     "ename": "OSError",
     "evalue": "Cannot save file into a non-existent directory: 'results'",
     "output_type": "error",
     "traceback": [
      "\u001b[31m---------------------------------------------------------------------------\u001b[39m",
      "\u001b[31mOSError\u001b[39m                                   Traceback (most recent call last)",
      "\u001b[36mCell\u001b[39m\u001b[36m \u001b[39m\u001b[32mIn[7]\u001b[39m\u001b[32m, line 7\u001b[39m\n\u001b[32m      4\u001b[39m     rows.append({\u001b[33m\"\u001b[39m\u001b[33mgene\u001b[39m\u001b[33m\"\u001b[39m: g.id, \u001b[33m\"\u001b[39m\u001b[33mWT_growth\u001b[39m\u001b[33m\"\u001b[39m: wt, \u001b[33m\"\u001b[39m\u001b[33mKO_growth\u001b[39m\u001b[33m\"\u001b[39m: ko, \u001b[33m\"\u001b[39m\u001b[33mPct_change\u001b[39m\u001b[33m\"\u001b[39m: pct})\n\u001b[32m      6\u001b[39m df = pd.DataFrame(rows)\n\u001b[32m----> \u001b[39m\u001b[32m7\u001b[39m \u001b[43mdf\u001b[49m\u001b[43m.\u001b[49m\u001b[43mto_csv\u001b[49m\u001b[43m(\u001b[49m\u001b[33;43m\"\u001b[39;49m\u001b[33;43mresults/knockout_results.csv\u001b[39;49m\u001b[33;43m\"\u001b[39;49m\u001b[43m,\u001b[49m\u001b[43m \u001b[49m\u001b[43mindex\u001b[49m\u001b[43m=\u001b[49m\u001b[38;5;28;43;01mFalse\u001b[39;49;00m\u001b[43m)\u001b[49m\n\u001b[32m      8\u001b[39m \u001b[38;5;28mprint\u001b[39m(\u001b[33m\"\u001b[39m\u001b[33mSaved knockout_results.csv\u001b[39m\u001b[33m\"\u001b[39m)\n",
      "\u001b[36mFile \u001b[39m\u001b[32m~\\AppData\\Local\\Packages\\PythonSoftwareFoundation.Python.3.13_qbz5n2kfra8p0\\LocalCache\\local-packages\\Python313\\site-packages\\pandas\\util\\_decorators.py:333\u001b[39m, in \u001b[36mdeprecate_nonkeyword_arguments.<locals>.decorate.<locals>.wrapper\u001b[39m\u001b[34m(*args, **kwargs)\u001b[39m\n\u001b[32m    327\u001b[39m \u001b[38;5;28;01mif\u001b[39;00m \u001b[38;5;28mlen\u001b[39m(args) > num_allow_args:\n\u001b[32m    328\u001b[39m     warnings.warn(\n\u001b[32m    329\u001b[39m         msg.format(arguments=_format_argument_list(allow_args)),\n\u001b[32m    330\u001b[39m         \u001b[38;5;167;01mFutureWarning\u001b[39;00m,\n\u001b[32m    331\u001b[39m         stacklevel=find_stack_level(),\n\u001b[32m    332\u001b[39m     )\n\u001b[32m--> \u001b[39m\u001b[32m333\u001b[39m \u001b[38;5;28;01mreturn\u001b[39;00m \u001b[43mfunc\u001b[49m\u001b[43m(\u001b[49m\u001b[43m*\u001b[49m\u001b[43margs\u001b[49m\u001b[43m,\u001b[49m\u001b[43m \u001b[49m\u001b[43m*\u001b[49m\u001b[43m*\u001b[49m\u001b[43mkwargs\u001b[49m\u001b[43m)\u001b[49m\n",
      "\u001b[36mFile \u001b[39m\u001b[32m~\\AppData\\Local\\Packages\\PythonSoftwareFoundation.Python.3.13_qbz5n2kfra8p0\\LocalCache\\local-packages\\Python313\\site-packages\\pandas\\core\\generic.py:3986\u001b[39m, in \u001b[36mNDFrame.to_csv\u001b[39m\u001b[34m(self, path_or_buf, sep, na_rep, float_format, columns, header, index, index_label, mode, encoding, compression, quoting, quotechar, lineterminator, chunksize, date_format, doublequote, escapechar, decimal, errors, storage_options)\u001b[39m\n\u001b[32m   3975\u001b[39m df = \u001b[38;5;28mself\u001b[39m \u001b[38;5;28;01mif\u001b[39;00m \u001b[38;5;28misinstance\u001b[39m(\u001b[38;5;28mself\u001b[39m, ABCDataFrame) \u001b[38;5;28;01melse\u001b[39;00m \u001b[38;5;28mself\u001b[39m.to_frame()\n\u001b[32m   3977\u001b[39m formatter = DataFrameFormatter(\n\u001b[32m   3978\u001b[39m     frame=df,\n\u001b[32m   3979\u001b[39m     header=header,\n\u001b[32m   (...)\u001b[39m\u001b[32m   3983\u001b[39m     decimal=decimal,\n\u001b[32m   3984\u001b[39m )\n\u001b[32m-> \u001b[39m\u001b[32m3986\u001b[39m \u001b[38;5;28;01mreturn\u001b[39;00m \u001b[43mDataFrameRenderer\u001b[49m\u001b[43m(\u001b[49m\u001b[43mformatter\u001b[49m\u001b[43m)\u001b[49m\u001b[43m.\u001b[49m\u001b[43mto_csv\u001b[49m\u001b[43m(\u001b[49m\n\u001b[32m   3987\u001b[39m \u001b[43m    \u001b[49m\u001b[43mpath_or_buf\u001b[49m\u001b[43m,\u001b[49m\n\u001b[32m   3988\u001b[39m \u001b[43m    \u001b[49m\u001b[43mlineterminator\u001b[49m\u001b[43m=\u001b[49m\u001b[43mlineterminator\u001b[49m\u001b[43m,\u001b[49m\n\u001b[32m   3989\u001b[39m \u001b[43m    \u001b[49m\u001b[43msep\u001b[49m\u001b[43m=\u001b[49m\u001b[43msep\u001b[49m\u001b[43m,\u001b[49m\n\u001b[32m   3990\u001b[39m \u001b[43m    \u001b[49m\u001b[43mencoding\u001b[49m\u001b[43m=\u001b[49m\u001b[43mencoding\u001b[49m\u001b[43m,\u001b[49m\n\u001b[32m   3991\u001b[39m \u001b[43m    \u001b[49m\u001b[43merrors\u001b[49m\u001b[43m=\u001b[49m\u001b[43merrors\u001b[49m\u001b[43m,\u001b[49m\n\u001b[32m   3992\u001b[39m \u001b[43m    \u001b[49m\u001b[43mcompression\u001b[49m\u001b[43m=\u001b[49m\u001b[43mcompression\u001b[49m\u001b[43m,\u001b[49m\n\u001b[32m   3993\u001b[39m \u001b[43m    \u001b[49m\u001b[43mquoting\u001b[49m\u001b[43m=\u001b[49m\u001b[43mquoting\u001b[49m\u001b[43m,\u001b[49m\n\u001b[32m   3994\u001b[39m \u001b[43m    \u001b[49m\u001b[43mcolumns\u001b[49m\u001b[43m=\u001b[49m\u001b[43mcolumns\u001b[49m\u001b[43m,\u001b[49m\n\u001b[32m   3995\u001b[39m \u001b[43m    \u001b[49m\u001b[43mindex_label\u001b[49m\u001b[43m=\u001b[49m\u001b[43mindex_label\u001b[49m\u001b[43m,\u001b[49m\n\u001b[32m   3996\u001b[39m \u001b[43m    \u001b[49m\u001b[43mmode\u001b[49m\u001b[43m=\u001b[49m\u001b[43mmode\u001b[49m\u001b[43m,\u001b[49m\n\u001b[32m   3997\u001b[39m \u001b[43m    \u001b[49m\u001b[43mchunksize\u001b[49m\u001b[43m=\u001b[49m\u001b[43mchunksize\u001b[49m\u001b[43m,\u001b[49m\n\u001b[32m   3998\u001b[39m \u001b[43m    \u001b[49m\u001b[43mquotechar\u001b[49m\u001b[43m=\u001b[49m\u001b[43mquotechar\u001b[49m\u001b[43m,\u001b[49m\n\u001b[32m   3999\u001b[39m \u001b[43m    \u001b[49m\u001b[43mdate_format\u001b[49m\u001b[43m=\u001b[49m\u001b[43mdate_format\u001b[49m\u001b[43m,\u001b[49m\n\u001b[32m   4000\u001b[39m \u001b[43m    \u001b[49m\u001b[43mdoublequote\u001b[49m\u001b[43m=\u001b[49m\u001b[43mdoublequote\u001b[49m\u001b[43m,\u001b[49m\n\u001b[32m   4001\u001b[39m \u001b[43m    \u001b[49m\u001b[43mescapechar\u001b[49m\u001b[43m=\u001b[49m\u001b[43mescapechar\u001b[49m\u001b[43m,\u001b[49m\n\u001b[32m   4002\u001b[39m \u001b[43m    \u001b[49m\u001b[43mstorage_options\u001b[49m\u001b[43m=\u001b[49m\u001b[43mstorage_options\u001b[49m\u001b[43m,\u001b[49m\n\u001b[32m   4003\u001b[39m \u001b[43m\u001b[49m\u001b[43m)\u001b[49m\n",
      "\u001b[36mFile \u001b[39m\u001b[32m~\\AppData\\Local\\Packages\\PythonSoftwareFoundation.Python.3.13_qbz5n2kfra8p0\\LocalCache\\local-packages\\Python313\\site-packages\\pandas\\io\\formats\\format.py:1014\u001b[39m, in \u001b[36mDataFrameRenderer.to_csv\u001b[39m\u001b[34m(self, path_or_buf, encoding, sep, columns, index_label, mode, compression, quoting, quotechar, lineterminator, chunksize, date_format, doublequote, escapechar, errors, storage_options)\u001b[39m\n\u001b[32m    993\u001b[39m     created_buffer = \u001b[38;5;28;01mFalse\u001b[39;00m\n\u001b[32m    995\u001b[39m csv_formatter = CSVFormatter(\n\u001b[32m    996\u001b[39m     path_or_buf=path_or_buf,\n\u001b[32m    997\u001b[39m     lineterminator=lineterminator,\n\u001b[32m   (...)\u001b[39m\u001b[32m   1012\u001b[39m     formatter=\u001b[38;5;28mself\u001b[39m.fmt,\n\u001b[32m   1013\u001b[39m )\n\u001b[32m-> \u001b[39m\u001b[32m1014\u001b[39m \u001b[43mcsv_formatter\u001b[49m\u001b[43m.\u001b[49m\u001b[43msave\u001b[49m\u001b[43m(\u001b[49m\u001b[43m)\u001b[49m\n\u001b[32m   1016\u001b[39m \u001b[38;5;28;01mif\u001b[39;00m created_buffer:\n\u001b[32m   1017\u001b[39m     \u001b[38;5;28;01massert\u001b[39;00m \u001b[38;5;28misinstance\u001b[39m(path_or_buf, StringIO)\n",
      "\u001b[36mFile \u001b[39m\u001b[32m~\\AppData\\Local\\Packages\\PythonSoftwareFoundation.Python.3.13_qbz5n2kfra8p0\\LocalCache\\local-packages\\Python313\\site-packages\\pandas\\io\\formats\\csvs.py:251\u001b[39m, in \u001b[36mCSVFormatter.save\u001b[39m\u001b[34m(self)\u001b[39m\n\u001b[32m    247\u001b[39m \u001b[38;5;250m\u001b[39m\u001b[33;03m\"\"\"\u001b[39;00m\n\u001b[32m    248\u001b[39m \u001b[33;03mCreate the writer & save.\u001b[39;00m\n\u001b[32m    249\u001b[39m \u001b[33;03m\"\"\"\u001b[39;00m\n\u001b[32m    250\u001b[39m \u001b[38;5;66;03m# apply compression and byte/text conversion\u001b[39;00m\n\u001b[32m--> \u001b[39m\u001b[32m251\u001b[39m \u001b[38;5;28;01mwith\u001b[39;00m \u001b[43mget_handle\u001b[49m\u001b[43m(\u001b[49m\n\u001b[32m    252\u001b[39m \u001b[43m    \u001b[49m\u001b[38;5;28;43mself\u001b[39;49m\u001b[43m.\u001b[49m\u001b[43mfilepath_or_buffer\u001b[49m\u001b[43m,\u001b[49m\n\u001b[32m    253\u001b[39m \u001b[43m    \u001b[49m\u001b[38;5;28;43mself\u001b[39;49m\u001b[43m.\u001b[49m\u001b[43mmode\u001b[49m\u001b[43m,\u001b[49m\n\u001b[32m    254\u001b[39m \u001b[43m    \u001b[49m\u001b[43mencoding\u001b[49m\u001b[43m=\u001b[49m\u001b[38;5;28;43mself\u001b[39;49m\u001b[43m.\u001b[49m\u001b[43mencoding\u001b[49m\u001b[43m,\u001b[49m\n\u001b[32m    255\u001b[39m \u001b[43m    \u001b[49m\u001b[43merrors\u001b[49m\u001b[43m=\u001b[49m\u001b[38;5;28;43mself\u001b[39;49m\u001b[43m.\u001b[49m\u001b[43merrors\u001b[49m\u001b[43m,\u001b[49m\n\u001b[32m    256\u001b[39m \u001b[43m    \u001b[49m\u001b[43mcompression\u001b[49m\u001b[43m=\u001b[49m\u001b[38;5;28;43mself\u001b[39;49m\u001b[43m.\u001b[49m\u001b[43mcompression\u001b[49m\u001b[43m,\u001b[49m\n\u001b[32m    257\u001b[39m \u001b[43m    \u001b[49m\u001b[43mstorage_options\u001b[49m\u001b[43m=\u001b[49m\u001b[38;5;28;43mself\u001b[39;49m\u001b[43m.\u001b[49m\u001b[43mstorage_options\u001b[49m\u001b[43m,\u001b[49m\n\u001b[32m    258\u001b[39m \u001b[43m\u001b[49m\u001b[43m)\u001b[49m \u001b[38;5;28;01mas\u001b[39;00m handles:\n\u001b[32m    259\u001b[39m     \u001b[38;5;66;03m# Note: self.encoding is irrelevant here\u001b[39;00m\n\u001b[32m    260\u001b[39m     \u001b[38;5;28mself\u001b[39m.writer = csvlib.writer(\n\u001b[32m    261\u001b[39m         handles.handle,\n\u001b[32m    262\u001b[39m         lineterminator=\u001b[38;5;28mself\u001b[39m.lineterminator,\n\u001b[32m   (...)\u001b[39m\u001b[32m    267\u001b[39m         quotechar=\u001b[38;5;28mself\u001b[39m.quotechar,\n\u001b[32m    268\u001b[39m     )\n\u001b[32m    270\u001b[39m     \u001b[38;5;28mself\u001b[39m._save()\n",
      "\u001b[36mFile \u001b[39m\u001b[32m~\\AppData\\Local\\Packages\\PythonSoftwareFoundation.Python.3.13_qbz5n2kfra8p0\\LocalCache\\local-packages\\Python313\\site-packages\\pandas\\io\\common.py:749\u001b[39m, in \u001b[36mget_handle\u001b[39m\u001b[34m(path_or_buf, mode, encoding, compression, memory_map, is_text, errors, storage_options)\u001b[39m\n\u001b[32m    747\u001b[39m \u001b[38;5;66;03m# Only for write methods\u001b[39;00m\n\u001b[32m    748\u001b[39m \u001b[38;5;28;01mif\u001b[39;00m \u001b[33m\"\u001b[39m\u001b[33mr\u001b[39m\u001b[33m\"\u001b[39m \u001b[38;5;129;01mnot\u001b[39;00m \u001b[38;5;129;01min\u001b[39;00m mode \u001b[38;5;129;01mand\u001b[39;00m is_path:\n\u001b[32m--> \u001b[39m\u001b[32m749\u001b[39m     \u001b[43mcheck_parent_directory\u001b[49m\u001b[43m(\u001b[49m\u001b[38;5;28;43mstr\u001b[39;49m\u001b[43m(\u001b[49m\u001b[43mhandle\u001b[49m\u001b[43m)\u001b[49m\u001b[43m)\u001b[49m\n\u001b[32m    751\u001b[39m \u001b[38;5;28;01mif\u001b[39;00m compression:\n\u001b[32m    752\u001b[39m     \u001b[38;5;28;01mif\u001b[39;00m compression != \u001b[33m\"\u001b[39m\u001b[33mzstd\u001b[39m\u001b[33m\"\u001b[39m:\n\u001b[32m    753\u001b[39m         \u001b[38;5;66;03m# compression libraries do not like an explicit text-mode\u001b[39;00m\n",
      "\u001b[36mFile \u001b[39m\u001b[32m~\\AppData\\Local\\Packages\\PythonSoftwareFoundation.Python.3.13_qbz5n2kfra8p0\\LocalCache\\local-packages\\Python313\\site-packages\\pandas\\io\\common.py:616\u001b[39m, in \u001b[36mcheck_parent_directory\u001b[39m\u001b[34m(path)\u001b[39m\n\u001b[32m    614\u001b[39m parent = Path(path).parent\n\u001b[32m    615\u001b[39m \u001b[38;5;28;01mif\u001b[39;00m \u001b[38;5;129;01mnot\u001b[39;00m parent.is_dir():\n\u001b[32m--> \u001b[39m\u001b[32m616\u001b[39m     \u001b[38;5;28;01mraise\u001b[39;00m \u001b[38;5;167;01mOSError\u001b[39;00m(\u001b[33mrf\u001b[39m\u001b[33m\"\u001b[39m\u001b[33mCannot save file into a non-existent directory: \u001b[39m\u001b[33m'\u001b[39m\u001b[38;5;132;01m{\u001b[39;00mparent\u001b[38;5;132;01m}\u001b[39;00m\u001b[33m'\u001b[39m\u001b[33m\"\u001b[39m)\n",
      "\u001b[31mOSError\u001b[39m: Cannot save file into a non-existent directory: 'results'"
     ]
    }
   ],
   "source": [
    "rows = []\n",
    "for g in model.genes:\n",
    "    wt, ko, pct = simulate_knockout(model, g.id)\n",
    "    rows.append({\"gene\": g.id, \"WT_growth\": wt, \"KO_growth\": ko, \"Pct_change\": pct})\n",
    "\n",
    "df = pd.DataFrame(rows)\n",
    "df.to_csv(\"results/knockout_results.csv\", index=False)\n",
    "print(\"Saved knockout_results.csv\")"
   ]
  },
  {
   "cell_type": "code",
   "execution_count": 8,
   "id": "2aa7d8cc-c9c9-4fe9-9f87-54588b02d9c9",
   "metadata": {},
   "outputs": [
    {
     "name": "stderr",
     "output_type": "stream",
     "text": [
      "No objective coefficients in model. Unclear what should be optimized\n"
     ]
    },
    {
     "name": "stdout",
     "output_type": "stream",
     "text": [
      "Model loaded with 1044 reactions, 928 metabolites, 816 genes\n",
      "All exchanges opened.\n"
     ]
    },
    {
     "ename": "AttributeError",
     "evalue": "'Objective' object has no attribute 'keys'",
     "output_type": "error",
     "traceback": [
      "\u001b[31m---------------------------------------------------------------------------\u001b[39m",
      "\u001b[31mAttributeError\u001b[39m                            Traceback (most recent call last)",
      "\u001b[36mCell\u001b[39m\u001b[36m \u001b[39m\u001b[32mIn[8]\u001b[39m\u001b[32m, line 24\u001b[39m\n\u001b[32m     19\u001b[39m \u001b[38;5;28mprint\u001b[39m(\u001b[33m\"\u001b[39m\u001b[33mAll exchanges opened.\u001b[39m\u001b[33m\"\u001b[39m)\n\u001b[32m     21\u001b[39m \u001b[38;5;66;03m# -----------------------------\u001b[39;00m\n\u001b[32m     22\u001b[39m \u001b[38;5;66;03m# 3. Check for biomass reaction or add one\u001b[39;00m\n\u001b[32m     23\u001b[39m \u001b[38;5;66;03m# -----------------------------\u001b[39;00m\n\u001b[32m---> \u001b[39m\u001b[32m24\u001b[39m \u001b[38;5;28;01mif\u001b[39;00m model.objective \u001b[38;5;129;01mis\u001b[39;00m \u001b[38;5;28;01mNone\u001b[39;00m \u001b[38;5;129;01mor\u001b[39;00m \u001b[38;5;28mlen\u001b[39m(\u001b[43mmodel\u001b[49m\u001b[43m.\u001b[49m\u001b[43mobjective\u001b[49m\u001b[43m.\u001b[49m\u001b[43mkeys\u001b[49m()) == \u001b[32m0\u001b[39m:\n\u001b[32m     25\u001b[39m     \u001b[38;5;28mprint\u001b[39m(\u001b[33m\"\u001b[39m\u001b[33mNo biomass reaction found. Adding test biomass...\u001b[39m\u001b[33m\"\u001b[39m)\n\u001b[32m     26\u001b[39m     rxn = Reaction(\u001b[33m\"\u001b[39m\u001b[33mBIOMASS_test\u001b[39m\u001b[33m\"\u001b[39m)\n",
      "\u001b[31mAttributeError\u001b[39m: 'Objective' object has no attribute 'keys'"
     ]
    }
   ],
   "source": [
    "import cobra\n",
    "import pandas as pd\n",
    "from cobra import Reaction\n",
    "\n",
    "# -----------------------------\n",
    "# 1. Load the GEM\n",
    "# -----------------------------\n",
    "model_path = r\"C:\\Users\\DBAMK\\Documents\\ProkaryPredict\\CottonwoodIncubator\\ProkaryPredict-McCrory\\data\\iSynCJ816.xml\"\n",
    "model = cobra.io.read_sbml_model(model_path)\n",
    "\n",
    "print(f\"Model loaded with {len(model.reactions)} reactions, {len(model.metabolites)} metabolites, {len(model.genes)} genes\")\n",
    "\n",
    "# -----------------------------\n",
    "# 2. Open all exchange reactions\n",
    "# -----------------------------\n",
    "for rxn in model.exchanges:\n",
    "    rxn.lower_bound = -10  # allow uptake at reasonable rate\n",
    "\n",
    "print(\"All exchanges opened.\")\n",
    "\n",
    "# -----------------------------\n",
    "# 3. Check for biomass reaction or add one\n",
    "# -----------------------------\n",
    "if model.objective is None or len(model.objective.keys()) == 0:\n",
    "    print(\"No biomass reaction found. Adding test biomass...\")\n",
    "    rxn = Reaction(\"BIOMASS_test\")\n",
    "    \n",
    "    # Select simple metabolites\n",
    "    met_ids = {\"atp_c\",\"adp_c\",\"pi_c\",\"h2o_c\",\"h_c\"}\n",
    "    mets = {m.id: m for m in model.metabolites if m.id in met_ids}\n",
    "    \n",
    "    # Add stoichiometry for ATP hydrolysis as dummy biomass\n",
    "    rxn.add_metabolites({\n",
    "        mets[\"atp_c\"]: -1,\n",
    "        mets[\"h2o_c\"]: -1,\n",
    "        mets[\"adp_c\"]: 1,\n",
    "        mets[\"pi_c\"]: 1,\n",
    "        mets[\"h_c\"]: 1\n",
    "    })\n",
    "    rxn.lower_bound = 0\n",
    "    rxn.upper_bound = 1000\n",
    "    model.add_reactions([rxn])\n",
    "    model.objective = rxn\n",
    "    print(\"Test biomass reaction added.\")\n",
    "else:\n",
    "    print(\"Biomass reaction found:\", list(model.objective.keys())[0])\n",
    "\n",
    "# -----------------------------\n",
    "# 4. Check wild-type growth\n",
    "# -----------------------------\n",
    "wt_growth = model.optimize().objective_value\n",
    "print(f\"Wild-type growth rate: {wt_growth}\")\n",
    "\n",
    "if wt_growth == 0:\n",
    "    print(\"⚠️ Warning: WT growth is zero. Knockouts will not show changes.\")\n",
    "\n",
    "# -----------------------------\n",
    "# 5. Function for single-gene knockout\n",
    "# -----------------------------\n",
    "def simulate_knockout(model, gene_id):\n",
    "    with model:\n",
    "        cobra.manipulation.delete_model_genes(model, [gene_id])\n",
    "        ko_growth = model.optimize().objective_value\n",
    "    pct_change = ((wt_growth - ko_growth) / wt_growth * 100) if wt_growth > 0 else 0\n",
    "    return wt_growth, ko_growth, pct_change\n",
    "\n",
    "# -----------------------------\n",
    "# 6. Run knockouts on all genes\n",
    "# -----------------------------\n",
    "results = []\n",
    "for gene in model.genes:\n",
    "    wt, ko, pct = simulate_knockout(model, gene.id)\n",
    "    results.append({\"gene\": gene.id, \"WT_growth\": wt, \"KO_growth\": ko, \"Percent_change\": pct})\n",
    "\n",
    "# -----------------------------\n",
    "# 7. Save to CSV\n",
    "# -----------------------------\n",
    "df = pd.DataFrame(results)\n",
    "df.to_csv(\"knockout_results.csv\", index=False)\n",
    "print(f\"Knockout results saved as 'knockout_results.csv' with {len(df)} genes.\")"
   ]
  },
  {
   "cell_type": "code",
   "execution_count": 9,
   "id": "c0b2a3fa-8755-4687-83d3-d30331dcc376",
   "metadata": {},
   "outputs": [
    {
     "name": "stderr",
     "output_type": "stream",
     "text": [
      "No objective coefficients in model. Unclear what should be optimized\n"
     ]
    },
    {
     "name": "stdout",
     "output_type": "stream",
     "text": [
      "No biomass reaction detected — please verify model reactions.\n",
      "Wild-type growth rate: 0.0000\n",
      "Knockout results saved to: C:\\Users\\DBAMK\\Documents\\ProkaryPredict\\CottonwoodIncubator\\ProkaryPredict-McCrory\\results\\knockout_results.csv\n"
     ]
    }
   ],
   "source": [
    "import cobra\n",
    "import pandas as pd\n",
    "import os\n",
    "\n",
    "# --- CONFIGURE FILE PATHS ---\n",
    "model_path = r\"C:\\Users\\DBAMK\\Documents\\ProkaryPredict\\CottonwoodIncubator\\ProkaryPredict-McCrory\\data\\iSynCJ816.xml\"\n",
    "results_dir = r\"C:\\Users\\DBAMK\\Documents\\ProkaryPredict\\CottonwoodIncubator\\ProkaryPredict-McCrory\\results\"\n",
    "output_file = os.path.join(results_dir, \"knockout_results.csv\")\n",
    "\n",
    "# --- LOAD THE GEM ---\n",
    "model = cobra.io.read_sbml_model(model_path)\n",
    "\n",
    "# --- CHECK OR SET BIOMASS ---\n",
    "if model.objective is None or \"biomass\" not in str(model.objective.expression).lower():\n",
    "    print(\"No biomass reaction detected — please verify model reactions.\")\n",
    "else:\n",
    "    print(f\"Objective set to: {model.objective.expression}\")\n",
    "\n",
    "# --- CALCULATE WILD-TYPE GROWTH ---\n",
    "wt_solution = model.optimize()\n",
    "wt_growth = wt_solution.objective_value\n",
    "print(f\"Wild-type growth rate: {wt_growth:.4f}\")\n",
    "\n",
    "# --- BATCH GENE KNOCKOUTS ---\n",
    "results = []\n",
    "for gene in model.genes:\n",
    "    with model:\n",
    "        gene.knock_out()\n",
    "        sol = model.optimize()\n",
    "        ko_growth = sol.objective_value\n",
    "        change = ((ko_growth - wt_growth) / wt_growth * 100) if wt_growth > 0 else 0\n",
    "        results.append({\n",
    "            \"gene\": gene.id,\n",
    "            \"WT_growth\": wt_growth,\n",
    "            \"KO_growth\": ko_growth,\n",
    "            \"Percent_change\": change\n",
    "        })\n",
    "\n",
    "# --- SAVE RESULTS ---\n",
    "df = pd.DataFrame(results)\n",
    "df.to_csv(output_file, index=False)\n",
    "print(f\"Knockout results saved to: {output_file}\")"
   ]
  },
  {
   "cell_type": "code",
   "execution_count": 10,
   "id": "a40adca0-7fe0-4db7-b266-8f18b0aee93a",
   "metadata": {},
   "outputs": [
    {
     "name": "stderr",
     "output_type": "stream",
     "text": [
      "No objective coefficients in model. Unclear what should be optimized\n"
     ]
    },
    {
     "name": "stdout",
     "output_type": "stream",
     "text": [
      "Using existing biomass reaction: BIOMASS_Ec_SynAuto_1\n",
      "Wild-type growth rate: 0.0765\n"
     ]
    },
    {
     "ename": "PermissionError",
     "evalue": "[Errno 13] Permission denied: 'C:\\\\Users\\\\DBAMK\\\\Documents\\\\ProkaryPredict\\\\CottonwoodIncubator\\\\ProkaryPredict-McCrory\\\\results\\\\knockout_results.csv'",
     "output_type": "error",
     "traceback": [
      "\u001b[31m---------------------------------------------------------------------------\u001b[39m",
      "\u001b[31mPermissionError\u001b[39m                           Traceback (most recent call last)",
      "\u001b[36mCell\u001b[39m\u001b[36m \u001b[39m\u001b[32mIn[10]\u001b[39m\u001b[32m, line 54\u001b[39m\n\u001b[32m     46\u001b[39m             knockout_results.append({\n\u001b[32m     47\u001b[39m                 \u001b[33m\"\u001b[39m\u001b[33mgene\u001b[39m\u001b[33m\"\u001b[39m: gene.id,\n\u001b[32m     48\u001b[39m                 \u001b[33m\"\u001b[39m\u001b[33mWT_growth\u001b[39m\u001b[33m\"\u001b[39m: solution.objective_value,\n\u001b[32m     49\u001b[39m                 \u001b[33m\"\u001b[39m\u001b[33mKO_growth\u001b[39m\u001b[33m\"\u001b[39m: ko_solution.objective_value,\n\u001b[32m     50\u001b[39m                 \u001b[33m\"\u001b[39m\u001b[33mpercent_change\u001b[39m\u001b[33m\"\u001b[39m: ((ko_solution.objective_value - solution.objective_value) / solution.objective_value) * \u001b[32m100\u001b[39m\n\u001b[32m     51\u001b[39m             })\n\u001b[32m     53\u001b[39m     df = pd.DataFrame(knockout_results)\n\u001b[32m---> \u001b[39m\u001b[32m54\u001b[39m     \u001b[43mdf\u001b[49m\u001b[43m.\u001b[49m\u001b[43mto_csv\u001b[49m\u001b[43m(\u001b[49m\u001b[43mresults_path\u001b[49m\u001b[43m,\u001b[49m\u001b[43m \u001b[49m\u001b[43mindex\u001b[49m\u001b[43m=\u001b[49m\u001b[38;5;28;43;01mFalse\u001b[39;49;00m\u001b[43m)\u001b[49m\n\u001b[32m     55\u001b[39m     \u001b[38;5;28mprint\u001b[39m(\u001b[33mf\u001b[39m\u001b[33m\"\u001b[39m\u001b[33mKnockout results saved to: \u001b[39m\u001b[38;5;132;01m{\u001b[39;00mresults_path\u001b[38;5;132;01m}\u001b[39;00m\u001b[33m\"\u001b[39m)\n\u001b[32m     56\u001b[39m \u001b[38;5;28;01melse\u001b[39;00m:\n",
      "\u001b[36mFile \u001b[39m\u001b[32m~\\AppData\\Local\\Packages\\PythonSoftwareFoundation.Python.3.13_qbz5n2kfra8p0\\LocalCache\\local-packages\\Python313\\site-packages\\pandas\\util\\_decorators.py:333\u001b[39m, in \u001b[36mdeprecate_nonkeyword_arguments.<locals>.decorate.<locals>.wrapper\u001b[39m\u001b[34m(*args, **kwargs)\u001b[39m\n\u001b[32m    327\u001b[39m \u001b[38;5;28;01mif\u001b[39;00m \u001b[38;5;28mlen\u001b[39m(args) > num_allow_args:\n\u001b[32m    328\u001b[39m     warnings.warn(\n\u001b[32m    329\u001b[39m         msg.format(arguments=_format_argument_list(allow_args)),\n\u001b[32m    330\u001b[39m         \u001b[38;5;167;01mFutureWarning\u001b[39;00m,\n\u001b[32m    331\u001b[39m         stacklevel=find_stack_level(),\n\u001b[32m    332\u001b[39m     )\n\u001b[32m--> \u001b[39m\u001b[32m333\u001b[39m \u001b[38;5;28;01mreturn\u001b[39;00m \u001b[43mfunc\u001b[49m\u001b[43m(\u001b[49m\u001b[43m*\u001b[49m\u001b[43margs\u001b[49m\u001b[43m,\u001b[49m\u001b[43m \u001b[49m\u001b[43m*\u001b[49m\u001b[43m*\u001b[49m\u001b[43mkwargs\u001b[49m\u001b[43m)\u001b[49m\n",
      "\u001b[36mFile \u001b[39m\u001b[32m~\\AppData\\Local\\Packages\\PythonSoftwareFoundation.Python.3.13_qbz5n2kfra8p0\\LocalCache\\local-packages\\Python313\\site-packages\\pandas\\core\\generic.py:3986\u001b[39m, in \u001b[36mNDFrame.to_csv\u001b[39m\u001b[34m(self, path_or_buf, sep, na_rep, float_format, columns, header, index, index_label, mode, encoding, compression, quoting, quotechar, lineterminator, chunksize, date_format, doublequote, escapechar, decimal, errors, storage_options)\u001b[39m\n\u001b[32m   3975\u001b[39m df = \u001b[38;5;28mself\u001b[39m \u001b[38;5;28;01mif\u001b[39;00m \u001b[38;5;28misinstance\u001b[39m(\u001b[38;5;28mself\u001b[39m, ABCDataFrame) \u001b[38;5;28;01melse\u001b[39;00m \u001b[38;5;28mself\u001b[39m.to_frame()\n\u001b[32m   3977\u001b[39m formatter = DataFrameFormatter(\n\u001b[32m   3978\u001b[39m     frame=df,\n\u001b[32m   3979\u001b[39m     header=header,\n\u001b[32m   (...)\u001b[39m\u001b[32m   3983\u001b[39m     decimal=decimal,\n\u001b[32m   3984\u001b[39m )\n\u001b[32m-> \u001b[39m\u001b[32m3986\u001b[39m \u001b[38;5;28;01mreturn\u001b[39;00m \u001b[43mDataFrameRenderer\u001b[49m\u001b[43m(\u001b[49m\u001b[43mformatter\u001b[49m\u001b[43m)\u001b[49m\u001b[43m.\u001b[49m\u001b[43mto_csv\u001b[49m\u001b[43m(\u001b[49m\n\u001b[32m   3987\u001b[39m \u001b[43m    \u001b[49m\u001b[43mpath_or_buf\u001b[49m\u001b[43m,\u001b[49m\n\u001b[32m   3988\u001b[39m \u001b[43m    \u001b[49m\u001b[43mlineterminator\u001b[49m\u001b[43m=\u001b[49m\u001b[43mlineterminator\u001b[49m\u001b[43m,\u001b[49m\n\u001b[32m   3989\u001b[39m \u001b[43m    \u001b[49m\u001b[43msep\u001b[49m\u001b[43m=\u001b[49m\u001b[43msep\u001b[49m\u001b[43m,\u001b[49m\n\u001b[32m   3990\u001b[39m \u001b[43m    \u001b[49m\u001b[43mencoding\u001b[49m\u001b[43m=\u001b[49m\u001b[43mencoding\u001b[49m\u001b[43m,\u001b[49m\n\u001b[32m   3991\u001b[39m \u001b[43m    \u001b[49m\u001b[43merrors\u001b[49m\u001b[43m=\u001b[49m\u001b[43merrors\u001b[49m\u001b[43m,\u001b[49m\n\u001b[32m   3992\u001b[39m \u001b[43m    \u001b[49m\u001b[43mcompression\u001b[49m\u001b[43m=\u001b[49m\u001b[43mcompression\u001b[49m\u001b[43m,\u001b[49m\n\u001b[32m   3993\u001b[39m \u001b[43m    \u001b[49m\u001b[43mquoting\u001b[49m\u001b[43m=\u001b[49m\u001b[43mquoting\u001b[49m\u001b[43m,\u001b[49m\n\u001b[32m   3994\u001b[39m \u001b[43m    \u001b[49m\u001b[43mcolumns\u001b[49m\u001b[43m=\u001b[49m\u001b[43mcolumns\u001b[49m\u001b[43m,\u001b[49m\n\u001b[32m   3995\u001b[39m \u001b[43m    \u001b[49m\u001b[43mindex_label\u001b[49m\u001b[43m=\u001b[49m\u001b[43mindex_label\u001b[49m\u001b[43m,\u001b[49m\n\u001b[32m   3996\u001b[39m \u001b[43m    \u001b[49m\u001b[43mmode\u001b[49m\u001b[43m=\u001b[49m\u001b[43mmode\u001b[49m\u001b[43m,\u001b[49m\n\u001b[32m   3997\u001b[39m \u001b[43m    \u001b[49m\u001b[43mchunksize\u001b[49m\u001b[43m=\u001b[49m\u001b[43mchunksize\u001b[49m\u001b[43m,\u001b[49m\n\u001b[32m   3998\u001b[39m \u001b[43m    \u001b[49m\u001b[43mquotechar\u001b[49m\u001b[43m=\u001b[49m\u001b[43mquotechar\u001b[49m\u001b[43m,\u001b[49m\n\u001b[32m   3999\u001b[39m \u001b[43m    \u001b[49m\u001b[43mdate_format\u001b[49m\u001b[43m=\u001b[49m\u001b[43mdate_format\u001b[49m\u001b[43m,\u001b[49m\n\u001b[32m   4000\u001b[39m \u001b[43m    \u001b[49m\u001b[43mdoublequote\u001b[49m\u001b[43m=\u001b[49m\u001b[43mdoublequote\u001b[49m\u001b[43m,\u001b[49m\n\u001b[32m   4001\u001b[39m \u001b[43m    \u001b[49m\u001b[43mescapechar\u001b[49m\u001b[43m=\u001b[49m\u001b[43mescapechar\u001b[49m\u001b[43m,\u001b[49m\n\u001b[32m   4002\u001b[39m \u001b[43m    \u001b[49m\u001b[43mstorage_options\u001b[49m\u001b[43m=\u001b[49m\u001b[43mstorage_options\u001b[49m\u001b[43m,\u001b[49m\n\u001b[32m   4003\u001b[39m \u001b[43m\u001b[49m\u001b[43m)\u001b[49m\n",
      "\u001b[36mFile \u001b[39m\u001b[32m~\\AppData\\Local\\Packages\\PythonSoftwareFoundation.Python.3.13_qbz5n2kfra8p0\\LocalCache\\local-packages\\Python313\\site-packages\\pandas\\io\\formats\\format.py:1014\u001b[39m, in \u001b[36mDataFrameRenderer.to_csv\u001b[39m\u001b[34m(self, path_or_buf, encoding, sep, columns, index_label, mode, compression, quoting, quotechar, lineterminator, chunksize, date_format, doublequote, escapechar, errors, storage_options)\u001b[39m\n\u001b[32m    993\u001b[39m     created_buffer = \u001b[38;5;28;01mFalse\u001b[39;00m\n\u001b[32m    995\u001b[39m csv_formatter = CSVFormatter(\n\u001b[32m    996\u001b[39m     path_or_buf=path_or_buf,\n\u001b[32m    997\u001b[39m     lineterminator=lineterminator,\n\u001b[32m   (...)\u001b[39m\u001b[32m   1012\u001b[39m     formatter=\u001b[38;5;28mself\u001b[39m.fmt,\n\u001b[32m   1013\u001b[39m )\n\u001b[32m-> \u001b[39m\u001b[32m1014\u001b[39m \u001b[43mcsv_formatter\u001b[49m\u001b[43m.\u001b[49m\u001b[43msave\u001b[49m\u001b[43m(\u001b[49m\u001b[43m)\u001b[49m\n\u001b[32m   1016\u001b[39m \u001b[38;5;28;01mif\u001b[39;00m created_buffer:\n\u001b[32m   1017\u001b[39m     \u001b[38;5;28;01massert\u001b[39;00m \u001b[38;5;28misinstance\u001b[39m(path_or_buf, StringIO)\n",
      "\u001b[36mFile \u001b[39m\u001b[32m~\\AppData\\Local\\Packages\\PythonSoftwareFoundation.Python.3.13_qbz5n2kfra8p0\\LocalCache\\local-packages\\Python313\\site-packages\\pandas\\io\\formats\\csvs.py:251\u001b[39m, in \u001b[36mCSVFormatter.save\u001b[39m\u001b[34m(self)\u001b[39m\n\u001b[32m    247\u001b[39m \u001b[38;5;250m\u001b[39m\u001b[33;03m\"\"\"\u001b[39;00m\n\u001b[32m    248\u001b[39m \u001b[33;03mCreate the writer & save.\u001b[39;00m\n\u001b[32m    249\u001b[39m \u001b[33;03m\"\"\"\u001b[39;00m\n\u001b[32m    250\u001b[39m \u001b[38;5;66;03m# apply compression and byte/text conversion\u001b[39;00m\n\u001b[32m--> \u001b[39m\u001b[32m251\u001b[39m \u001b[38;5;28;01mwith\u001b[39;00m \u001b[43mget_handle\u001b[49m\u001b[43m(\u001b[49m\n\u001b[32m    252\u001b[39m \u001b[43m    \u001b[49m\u001b[38;5;28;43mself\u001b[39;49m\u001b[43m.\u001b[49m\u001b[43mfilepath_or_buffer\u001b[49m\u001b[43m,\u001b[49m\n\u001b[32m    253\u001b[39m \u001b[43m    \u001b[49m\u001b[38;5;28;43mself\u001b[39;49m\u001b[43m.\u001b[49m\u001b[43mmode\u001b[49m\u001b[43m,\u001b[49m\n\u001b[32m    254\u001b[39m \u001b[43m    \u001b[49m\u001b[43mencoding\u001b[49m\u001b[43m=\u001b[49m\u001b[38;5;28;43mself\u001b[39;49m\u001b[43m.\u001b[49m\u001b[43mencoding\u001b[49m\u001b[43m,\u001b[49m\n\u001b[32m    255\u001b[39m \u001b[43m    \u001b[49m\u001b[43merrors\u001b[49m\u001b[43m=\u001b[49m\u001b[38;5;28;43mself\u001b[39;49m\u001b[43m.\u001b[49m\u001b[43merrors\u001b[49m\u001b[43m,\u001b[49m\n\u001b[32m    256\u001b[39m \u001b[43m    \u001b[49m\u001b[43mcompression\u001b[49m\u001b[43m=\u001b[49m\u001b[38;5;28;43mself\u001b[39;49m\u001b[43m.\u001b[49m\u001b[43mcompression\u001b[49m\u001b[43m,\u001b[49m\n\u001b[32m    257\u001b[39m \u001b[43m    \u001b[49m\u001b[43mstorage_options\u001b[49m\u001b[43m=\u001b[49m\u001b[38;5;28;43mself\u001b[39;49m\u001b[43m.\u001b[49m\u001b[43mstorage_options\u001b[49m\u001b[43m,\u001b[49m\n\u001b[32m    258\u001b[39m \u001b[43m\u001b[49m\u001b[43m)\u001b[49m \u001b[38;5;28;01mas\u001b[39;00m handles:\n\u001b[32m    259\u001b[39m     \u001b[38;5;66;03m# Note: self.encoding is irrelevant here\u001b[39;00m\n\u001b[32m    260\u001b[39m     \u001b[38;5;28mself\u001b[39m.writer = csvlib.writer(\n\u001b[32m    261\u001b[39m         handles.handle,\n\u001b[32m    262\u001b[39m         lineterminator=\u001b[38;5;28mself\u001b[39m.lineterminator,\n\u001b[32m   (...)\u001b[39m\u001b[32m    267\u001b[39m         quotechar=\u001b[38;5;28mself\u001b[39m.quotechar,\n\u001b[32m    268\u001b[39m     )\n\u001b[32m    270\u001b[39m     \u001b[38;5;28mself\u001b[39m._save()\n",
      "\u001b[36mFile \u001b[39m\u001b[32m~\\AppData\\Local\\Packages\\PythonSoftwareFoundation.Python.3.13_qbz5n2kfra8p0\\LocalCache\\local-packages\\Python313\\site-packages\\pandas\\io\\common.py:873\u001b[39m, in \u001b[36mget_handle\u001b[39m\u001b[34m(path_or_buf, mode, encoding, compression, memory_map, is_text, errors, storage_options)\u001b[39m\n\u001b[32m    868\u001b[39m \u001b[38;5;28;01melif\u001b[39;00m \u001b[38;5;28misinstance\u001b[39m(handle, \u001b[38;5;28mstr\u001b[39m):\n\u001b[32m    869\u001b[39m     \u001b[38;5;66;03m# Check whether the filename is to be opened in binary mode.\u001b[39;00m\n\u001b[32m    870\u001b[39m     \u001b[38;5;66;03m# Binary mode does not support 'encoding' and 'newline'.\u001b[39;00m\n\u001b[32m    871\u001b[39m     \u001b[38;5;28;01mif\u001b[39;00m ioargs.encoding \u001b[38;5;129;01mand\u001b[39;00m \u001b[33m\"\u001b[39m\u001b[33mb\u001b[39m\u001b[33m\"\u001b[39m \u001b[38;5;129;01mnot\u001b[39;00m \u001b[38;5;129;01min\u001b[39;00m ioargs.mode:\n\u001b[32m    872\u001b[39m         \u001b[38;5;66;03m# Encoding\u001b[39;00m\n\u001b[32m--> \u001b[39m\u001b[32m873\u001b[39m         handle = \u001b[38;5;28;43mopen\u001b[39;49m\u001b[43m(\u001b[49m\n\u001b[32m    874\u001b[39m \u001b[43m            \u001b[49m\u001b[43mhandle\u001b[49m\u001b[43m,\u001b[49m\n\u001b[32m    875\u001b[39m \u001b[43m            \u001b[49m\u001b[43mioargs\u001b[49m\u001b[43m.\u001b[49m\u001b[43mmode\u001b[49m\u001b[43m,\u001b[49m\n\u001b[32m    876\u001b[39m \u001b[43m            \u001b[49m\u001b[43mencoding\u001b[49m\u001b[43m=\u001b[49m\u001b[43mioargs\u001b[49m\u001b[43m.\u001b[49m\u001b[43mencoding\u001b[49m\u001b[43m,\u001b[49m\n\u001b[32m    877\u001b[39m \u001b[43m            \u001b[49m\u001b[43merrors\u001b[49m\u001b[43m=\u001b[49m\u001b[43merrors\u001b[49m\u001b[43m,\u001b[49m\n\u001b[32m    878\u001b[39m \u001b[43m            \u001b[49m\u001b[43mnewline\u001b[49m\u001b[43m=\u001b[49m\u001b[33;43m\"\u001b[39;49m\u001b[33;43m\"\u001b[39;49m\u001b[43m,\u001b[49m\n\u001b[32m    879\u001b[39m \u001b[43m        \u001b[49m\u001b[43m)\u001b[49m\n\u001b[32m    880\u001b[39m     \u001b[38;5;28;01melse\u001b[39;00m:\n\u001b[32m    881\u001b[39m         \u001b[38;5;66;03m# Binary mode\u001b[39;00m\n\u001b[32m    882\u001b[39m         handle = \u001b[38;5;28mopen\u001b[39m(handle, ioargs.mode)\n",
      "\u001b[31mPermissionError\u001b[39m: [Errno 13] Permission denied: 'C:\\\\Users\\\\DBAMK\\\\Documents\\\\ProkaryPredict\\\\CottonwoodIncubator\\\\ProkaryPredict-McCrory\\\\results\\\\knockout_results.csv'"
     ]
    }
   ],
   "source": [
    "import cobra\n",
    "import os\n",
    "import pandas as pd\n",
    "\n",
    "# Load the model\n",
    "model_path = r\"C:\\Users\\DBAMK\\Documents\\ProkaryPredict\\CottonwoodIncubator\\ProkaryPredict-McCrory\\data\\iSynCJ816.xml\"\n",
    "model = cobra.io.read_sbml_model(model_path)\n",
    "\n",
    "# Step 1: Search for existing biomass-like reactions\n",
    "biomass_candidates = [r for r in model.reactions if 'biomass' in r.id.lower() or 'growth' in r.id.lower()]\n",
    "\n",
    "if biomass_candidates:\n",
    "    biomass_rxn = biomass_candidates[0]\n",
    "    print(f\"Using existing biomass reaction: {biomass_rxn.id}\")\n",
    "else:\n",
    "    # Step 2: Add a simple placeholder biomass reaction\n",
    "    print(\"No biomass reaction found. Adding placeholder biomass reaction...\")\n",
    "    biomass_rxn = cobra.Reaction(\"BIOMASS_placeholder\")\n",
    "    biomass_rxn.name = \"Placeholder Biomass Reaction\"\n",
    "    biomass_rxn.lower_bound = 0\n",
    "    biomass_rxn.upper_bound = 1000\n",
    "    # Use some abundant metabolites so the reaction can carry flux\n",
    "    mets = [model.metabolites.get_by_id(m) for m in model.metabolites.list_attr(\"id\")[:3]]\n",
    "    biomass_rxn.add_metabolites({m: -1.0 for m in mets})  # Consume metabolites\n",
    "    biomass_rxn.add_metabolites({model.metabolites.get_by_id(model.metabolites.list_attr(\"id\")[0]): 1.0})  # Produce biomass\n",
    "    model.add_reactions([biomass_rxn])\n",
    "\n",
    "# Step 3: Set as objective\n",
    "model.objective = biomass_rxn.id\n",
    "\n",
    "# Step 4: Test wild-type growth\n",
    "solution = model.optimize()\n",
    "print(f\"Wild-type growth rate: {solution.objective_value:.4f}\")\n",
    "\n",
    "# Step 5: Automate knockouts if growth > 0\n",
    "results_dir = r\"C:\\Users\\DBAMK\\Documents\\ProkaryPredict\\CottonwoodIncubator\\ProkaryPredict-McCrory\\results\"\n",
    "os.makedirs(results_dir, exist_ok=True)\n",
    "results_path = os.path.join(results_dir, \"knockout_results.csv\")\n",
    "\n",
    "if solution.objective_value > 0:\n",
    "    knockout_results = []\n",
    "    for gene in model.genes:\n",
    "        with model:\n",
    "            gene.knock_out()\n",
    "            ko_solution = model.optimize()\n",
    "            knockout_results.append({\n",
    "                \"gene\": gene.id,\n",
    "                \"WT_growth\": solution.objective_value,\n",
    "                \"KO_growth\": ko_solution.objective_value,\n",
    "                \"percent_change\": ((ko_solution.objective_value - solution.objective_value) / solution.objective_value) * 100\n",
    "            })\n",
    "\n",
    "    df = pd.DataFrame(knockout_results)\n",
    "    df.to_csv(results_path, index=False)\n",
    "    print(f\"Knockout results saved to: {results_path}\")\n",
    "else:\n",
    "    print(\"Growth is still zero — need a better biomass reaction definition.\")"
   ]
  },
  {
   "cell_type": "code",
   "execution_count": 11,
   "id": "96a98146-186d-4af5-8d46-7ddb7c8297f1",
   "metadata": {},
   "outputs": [
    {
     "name": "stderr",
     "output_type": "stream",
     "text": [
      "No objective coefficients in model. Unclear what should be optimized\n"
     ]
    },
    {
     "name": "stdout",
     "output_type": "stream",
     "text": [
      "Model loaded successfully with 1044 reactions, 928 metabolites, and 816 genes.\n",
      "Using biomass reaction: BIOMASS_Ec_SynAuto_1\n",
      "Wild-type growth rate: 0.0765\n",
      "Knockout results saved to: C:\\Users\\DBAMK\\Documents\\ProkaryPredict\\CottonwoodIncubator\\ProkaryPredict-McCrory\\results\\knockout_results_20250928_203641.csv\n"
     ]
    }
   ],
   "source": [
    "import cobra\n",
    "import pandas as pd\n",
    "import os\n",
    "import time\n",
    "\n",
    "# ----------------- CONFIGURATION -----------------\n",
    "model_path = r\"C:\\Users\\DBAMK\\Documents\\ProkaryPredict\\CottonwoodIncubator\\ProkaryPredict-McCrory\\data\\iSynCJ816.xml\"\n",
    "results_dir = r\"C:\\Users\\DBAMK\\Documents\\ProkaryPredict\\CottonwoodIncubator\\ProkaryPredict-McCrory\\results\"\n",
    "os.makedirs(results_dir, exist_ok=True)\n",
    "\n",
    "# ----------------- LOAD MODEL -----------------\n",
    "try:\n",
    "    model = cobra.io.read_sbml_model(model_path)\n",
    "    print(f\"Model loaded successfully with {len(model.reactions)} reactions, {len(model.metabolites)} metabolites, and {len(model.genes)} genes.\")\n",
    "except Exception as e:\n",
    "    raise RuntimeError(f\"Error loading model: {e}\")\n",
    "\n",
    "# ----------------- BIOMASS SETUP -----------------\n",
    "# Find biomass reaction\n",
    "biomass_candidates = [rxn for rxn in model.reactions if \"biomass\" in rxn.id.lower()]\n",
    "if not biomass_candidates:\n",
    "    raise RuntimeError(\"No biomass reaction detected — you must define one first.\")\n",
    "else:\n",
    "    biomass_rxn = biomass_candidates[0]\n",
    "    model.objective = biomass_rxn.id\n",
    "    print(f\"Using biomass reaction: {biomass_rxn.id}\")\n",
    "\n",
    "# ----------------- WILD-TYPE GROWTH -----------------\n",
    "solution = model.optimize()\n",
    "if solution.status != \"optimal\":\n",
    "    raise RuntimeError(\"Model failed to optimize. Check biomass reaction or constraints.\")\n",
    "\n",
    "wt_growth = solution.objective_value\n",
    "print(f\"Wild-type growth rate: {wt_growth:.4f}\")\n",
    "\n",
    "# ----------------- BATCH KNOCKOUTS -----------------\n",
    "knockout_results = []\n",
    "for gene in model.genes:\n",
    "    with model:\n",
    "        gene.knock_out()\n",
    "        ko_solution = model.optimize()\n",
    "        ko_growth = ko_solution.objective_value if ko_solution.status == \"optimal\" else 0.0\n",
    "        change = ((ko_growth - wt_growth) / wt_growth * 100) if wt_growth > 0 else 0.0\n",
    "        knockout_results.append({\n",
    "            \"gene\": gene.id,\n",
    "            \"WT_growth\": wt_growth,\n",
    "            \"KO_growth\": ko_growth,\n",
    "            \"percent_change\": change\n",
    "        })\n",
    "\n",
    "# ----------------- SAVE RESULTS -----------------\n",
    "timestamp = time.strftime(\"%Y%m%d_%H%M%S\")\n",
    "results_path = os.path.join(results_dir, f\"knockout_results_{timestamp}.csv\")\n",
    "df = pd.DataFrame(knockout_results)\n",
    "df.to_csv(results_path, index=False, encoding='utf-8-sig')\n",
    "print(f\"Knockout results saved to: {results_path}\")\n"
   ]
  },
  {
   "cell_type": "code",
   "execution_count": null,
   "id": "ec9dcbb5-41b5-4158-b16d-6361366c36e8",
   "metadata": {},
   "outputs": [],
   "source": []
  }
 ],
 "metadata": {
  "kernelspec": {
   "display_name": "Python 3 (ipykernel)",
   "language": "python",
   "name": "python3"
  },
  "language_info": {
   "codemirror_mode": {
    "name": "ipython",
    "version": 3
   },
   "file_extension": ".py",
   "mimetype": "text/x-python",
   "name": "python",
   "nbconvert_exporter": "python",
   "pygments_lexer": "ipython3",
   "version": "3.13.7"
  }
 },
 "nbformat": 4,
 "nbformat_minor": 5
}
