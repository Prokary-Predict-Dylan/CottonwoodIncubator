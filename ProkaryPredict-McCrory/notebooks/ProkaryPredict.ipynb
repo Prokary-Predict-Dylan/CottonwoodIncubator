{
 "cells": [
  {
   "cell_type": "code",
   "execution_count": 5,
   "id": "efeb0d95-ff58-4152-8069-0e6910b143de",
   "metadata": {},
   "outputs": [
    {
     "name": "stdout",
     "output_type": "stream",
     "text": [
      "Biopython is installed. Version: 1.85\n",
      "COBRApy is installed. Version: 0.29.1\n"
     ]
    }
   ],
   "source": [
    "# Test Biopython\n",
    "try:\n",
    "    import Bio\n",
    "    print(\"Biopython is installed. Version:\", Bio.__version__)\n",
    "except ImportError:\n",
    "    print(\"Biopython is NOT installed.\")\n",
    "\n",
    "# Test COBRApy\n",
    "try:\n",
    "    import cobra\n",
    "    print(\"COBRApy is installed. Version:\", cobra.__version__)\n",
    "except ImportError:\n",
    "    print(\"COBRApy is NOT installed.\")\n"
   ]
  },
  {
   "cell_type": "code",
   "execution_count": 5,
   "id": "89e3ea04-abd3-49e8-9a14-215b715e3b2d",
   "metadata": {},
   "outputs": [
    {
     "name": "stdout",
     "output_type": "stream",
     "text": [
      "Using FASTA: Data\\GCA_000009725.1\\.ipynb_checkpoints\\GCA_000009725.1_ASM972v1_genomic-checkpoint.fna\n",
      "\n",
      "Per-sequence counts:\n",
      "id\tlength\tA\tC\tG\tT\tN\tother\tGC%(excl_N)\n",
      "BA000022.2\t3,573,470\t932,363\t851,461\t853,808\t935,838\t0\t0\t47.72\n",
      "AP004311.1\t103,307\t28,620\t23,249\t22,701\t28,737\t0\t0\t44.479\n",
      "AP004312.1\t44,343\t11,404\t10,710\t10,849\t11,380\t0\t0\t48.619\n",
      "AP004310.1\t119,895\t33,846\t25,867\t25,628\t34,554\t0\t0\t42.95\n",
      "AP006585.1\t106,004\t31,332\t21,997\t23,283\t29,392\t0\t0\t42.715\n",
      "\n",
      "TOTALS:\n",
      "Length: 3,947,019\n",
      "A: 1,037,565  C: 933,284  G: 936,269  T: 1,039,901  N: 0  other: 0\n",
      "GC% (excluding N): 47.366\n",
      "\n",
      "Saved per-sequence table to: nucleotide_counts_per_sequence.csv\n"
     ]
    }
   ],
   "source": [
    "from pathlib import Path\n",
    "from collections import Counter\n",
    "import sys, subprocess, io, gzip, csv\n",
    "\n",
    "# ----- CONFIG -----\n",
    "FILE = None            # e.g. \"synechocystis.fasta\" or leave None to auto-detect\n",
    "SELECT_INDEX = 0       # if multiple FASTA files are found, which one to use (0-based)\n",
    "FASTA_EXTS = {\".fa\", \".fasta\", \".fna\", \".ffn\", \".fas\", \".fa.gz\", \".fasta.gz\", \".fna.gz\"}\n",
    "\n",
    "def _ensure_biopython():\n",
    "    try:\n",
    "        from Bio import SeqIO\n",
    "        return SeqIO\n",
    "    except Exception:\n",
    "        print(\"Installing Biopython...\", flush=True)\n",
    "        subprocess.check_call([sys.executable, \"-m\", \"pip\", \"install\", \"biopython\", \"--quiet\"])\n",
    "        from Bio import SeqIO\n",
    "        return SeqIO\n",
    "\n",
    "def _open_text(path):\n",
    "    p = str(path)\n",
    "    if p.endswith(\".gz\"):\n",
    "        return io.TextIOWrapper(gzip.open(p, \"rb\"))\n",
    "    return open(p, \"rt\", encoding=\"utf-8\", errors=\"replace\")\n",
    "\n",
    "# ----- locate FASTA file -----\n",
    "if FILE is None:\n",
    "    candidates = []\n",
    "    for ext in FASTA_EXTS:\n",
    "        candidates.extend(Path(\".\").glob(f\"**/*{ext}\"))\n",
    "    candidates = sorted(set(candidates))\n",
    "    if not candidates:\n",
    "        raise FileNotFoundError(\n",
    "            \"No FASTA files found in this folder. \"\n",
    "            \"Set FILE='your_file.fasta' or place a .fa/.fasta/.fna file here.\"\n",
    "        )\n",
    "    if SELECT_INDEX >= len(candidates):\n",
    "        raise IndexError(f\"SELECT_INDEX={SELECT_INDEX} but only {len(candidates)} FASTA files found.\")\n",
    "    FILE = str(candidates[SELECT_INDEX])\n",
    "    print(f\"Using FASTA: {FILE}\")\n",
    "\n",
    "# ----- parse & count -----\n",
    "SeqIO = _ensure_biopython()\n",
    "\n",
    "total = Counter()\n",
    "rows = []  # per-sequence rows for CSV\n",
    "allowed = \"ACGTN\"\n",
    "\n",
    "with _open_text(FILE) as handle:\n",
    "    try:\n",
    "        # stream-parse (handles huge files)\n",
    "        for rec in SeqIO.parse(handle, \"fasta\"):\n",
    "            seq = str(rec.seq).upper()\n",
    "            c = Counter(seq)\n",
    "            length = sum(c.values())\n",
    "            others = length - sum(c[b] for b in allowed)\n",
    "            gc = c[\"G\"] + c[\"C\"]\n",
    "            acgt = sum(c[b] for b in \"ACGT\")\n",
    "            gc_pct = (100.0 * gc / acgt) if acgt else 0.0\n",
    "\n",
    "            rows.append({\n",
    "                \"id\": rec.id,\n",
    "                \"length\": length,\n",
    "                \"A\": c[\"A\"], \"C\": c[\"C\"], \"G\": c[\"G\"], \"T\": c[\"T\"], \"N\": c.get(\"N\", 0),\n",
    "                \"other\": others, \"GC_percent(excl_N)\": round(gc_pct, 3)\n",
    "            })\n",
    "            total.update(seq)\n",
    "    except Exception as e:\n",
    "        raise RuntimeError(\n",
    "            f\"Failed to parse '{FILE}' as FASTA. \"\n",
    "            f\"Is it really FASTA (not GenBank/GBFF/JSON)? Original error: {e}\"\n",
    "        )\n",
    "\n",
    "# ----- print table (compact) -----\n",
    "def _fmt_int(n): \n",
    "    return f\"{n:,}\"\n",
    "\n",
    "print(\"\\nPer-sequence counts:\")\n",
    "print(\"id\\tlength\\tA\\tC\\tG\\tT\\tN\\tother\\tGC%(excl_N)\")\n",
    "for r in rows[:200]:  # print first 200 to avoid spamming\n",
    "    print(f\"{r['id']}\\t{_fmt_int(r['length'])}\\t{_fmt_int(r['A'])}\\t{_fmt_int(r['C'])}\\t\"\n",
    "          f\"{_fmt_int(r['G'])}\\t{_fmt_int(r['T'])}\\t{_fmt_int(r['N'])}\\t{_fmt_int(r['other'])}\\t{r['GC_percent(excl_N)']}\")\n",
    "\n",
    "if len(rows) > 200:\n",
    "    print(f\"... ({len(rows)-200} more sequences not printed)\")\n",
    "\n",
    "# ----- totals -----\n",
    "tot_len = sum(total.values())\n",
    "A, C, G, T, N = (total.get(b, 0) for b in \"ACGTN\")\n",
    "ACGT = A + C + G + T\n",
    "GC = G + C\n",
    "GC_pct = (100.0 * GC / ACGT) if ACGT else 0.0\n",
    "others = tot_len - (A + C + G + T + N)\n",
    "\n",
    "print(\"\\nTOTALS:\")\n",
    "print(f\"Length: {_fmt_int(tot_len)}\")\n",
    "print(f\"A: {_fmt_int(A)}  C: {_fmt_int(C)}  G: {_fmt_int(G)}  T: {_fmt_int(T)}  N: {_fmt_int(N)}  other: {_fmt_int(others)}\")\n",
    "print(f\"GC% (excluding N): {GC_pct:.3f}\")\n",
    "\n",
    "# ----- save CSV -----\n",
    "out_csv = \"nucleotide_counts_per_sequence.csv\"\n",
    "with open(out_csv, \"w\", newline=\"\") as f:\n",
    "    writer = csv.DictWriter(f, fieldnames=[\"id\",\"length\",\"A\",\"C\",\"G\",\"T\",\"N\",\"other\",\"GC_percent(excl_N)\"])\n",
    "    writer.writeheader()\n",
    "    writer.writerows(rows)\n",
    "print(f\"\\nSaved per-sequence table to: {out_csv}\")"
   ]
  },
  {
   "cell_type": "code",
   "execution_count": 1,
   "id": "65dbcb37-e58a-40f9-8c98-784ceed44dba",
   "metadata": {},
   "outputs": [
    {
     "ename": "FileNotFoundError",
     "evalue": "[Errno 2] No such file or directory: '../data/genome.fasta'",
     "output_type": "error",
     "traceback": [
      "\u001b[31m---------------------------------------------------------------------------\u001b[39m",
      "\u001b[31mFileNotFoundError\u001b[39m                         Traceback (most recent call last)",
      "\u001b[36mCell\u001b[39m\u001b[36m \u001b[39m\u001b[32mIn[1]\u001b[39m\u001b[32m, line 6\u001b[39m\n\u001b[32m      4\u001b[39m \u001b[38;5;66;03m# Load FASTA\u001b[39;00m\n\u001b[32m      5\u001b[39m fasta_path = \u001b[33m\"\u001b[39m\u001b[33m../data/genome.fasta\u001b[39m\u001b[33m\"\u001b[39m  \u001b[38;5;66;03m# change as needed\u001b[39;00m\n\u001b[32m----> \u001b[39m\u001b[32m6\u001b[39m records = \u001b[38;5;28mlist\u001b[39m(\u001b[43mSeqIO\u001b[49m\u001b[43m.\u001b[49m\u001b[43mparse\u001b[49m\u001b[43m(\u001b[49m\u001b[43mfasta_path\u001b[49m\u001b[43m,\u001b[49m\u001b[43m \u001b[49m\u001b[33;43m\"\u001b[39;49m\u001b[33;43mfasta\u001b[39;49m\u001b[33;43m\"\u001b[39;49m\u001b[43m)\u001b[49m)\n\u001b[32m      8\u001b[39m \u001b[38;5;66;03m# Extract gene names & lengths\u001b[39;00m\n\u001b[32m      9\u001b[39m gene_data = []\n",
      "\u001b[36mFile \u001b[39m\u001b[32m~\\AppData\\Local\\Packages\\PythonSoftwareFoundation.Python.3.13_qbz5n2kfra8p0\\LocalCache\\local-packages\\Python313\\site-packages\\Bio\\SeqIO\\__init__.py:626\u001b[39m, in \u001b[36mparse\u001b[39m\u001b[34m(handle, format, alphabet)\u001b[39m\n\u001b[32m    624\u001b[39m iterator_generator = _FormatToIterator.get(\u001b[38;5;28mformat\u001b[39m)\n\u001b[32m    625\u001b[39m \u001b[38;5;28;01mif\u001b[39;00m iterator_generator:\n\u001b[32m--> \u001b[39m\u001b[32m626\u001b[39m     \u001b[38;5;28;01mreturn\u001b[39;00m \u001b[43miterator_generator\u001b[49m\u001b[43m(\u001b[49m\u001b[43mhandle\u001b[49m\u001b[43m)\u001b[49m\n\u001b[32m    627\u001b[39m \u001b[38;5;28;01mif\u001b[39;00m \u001b[38;5;28mformat\u001b[39m \u001b[38;5;129;01min\u001b[39;00m AlignIO._FormatToIterator:\n\u001b[32m    628\u001b[39m     \u001b[38;5;66;03m# Use Bio.AlignIO to read in the alignments\u001b[39;00m\n\u001b[32m    629\u001b[39m     \u001b[38;5;28;01mreturn\u001b[39;00m (r \u001b[38;5;28;01mfor\u001b[39;00m alignment \u001b[38;5;129;01min\u001b[39;00m AlignIO.parse(handle, \u001b[38;5;28mformat\u001b[39m) \u001b[38;5;28;01mfor\u001b[39;00m r \u001b[38;5;129;01min\u001b[39;00m alignment)\n",
      "\u001b[36mFile \u001b[39m\u001b[32m~\\AppData\\Local\\Packages\\PythonSoftwareFoundation.Python.3.13_qbz5n2kfra8p0\\LocalCache\\local-packages\\Python313\\site-packages\\Bio\\SeqIO\\FastaIO.py:196\u001b[39m, in \u001b[36mFastaIterator.__init__\u001b[39m\u001b[34m(self, source, alphabet)\u001b[39m\n\u001b[32m    194\u001b[39m \u001b[38;5;28;01mif\u001b[39;00m alphabet \u001b[38;5;129;01mis\u001b[39;00m \u001b[38;5;129;01mnot\u001b[39;00m \u001b[38;5;28;01mNone\u001b[39;00m:\n\u001b[32m    195\u001b[39m     \u001b[38;5;28;01mraise\u001b[39;00m \u001b[38;5;167;01mValueError\u001b[39;00m(\u001b[33m\"\u001b[39m\u001b[33mThe alphabet argument is no longer supported\u001b[39m\u001b[33m\"\u001b[39m)\n\u001b[32m--> \u001b[39m\u001b[32m196\u001b[39m \u001b[38;5;28;43msuper\u001b[39;49m\u001b[43m(\u001b[49m\u001b[43m)\u001b[49m\u001b[43m.\u001b[49m\u001b[34;43m__init__\u001b[39;49m\u001b[43m(\u001b[49m\u001b[43msource\u001b[49m\u001b[43m,\u001b[49m\u001b[43m \u001b[49m\u001b[43mfmt\u001b[49m\u001b[43m=\u001b[49m\u001b[33;43m\"\u001b[39;49m\u001b[33;43mFasta\u001b[39;49m\u001b[33;43m\"\u001b[39;49m\u001b[43m)\u001b[49m\n\u001b[32m    197\u001b[39m \u001b[38;5;28;01mtry\u001b[39;00m:\n\u001b[32m    198\u001b[39m     line = \u001b[38;5;28mnext\u001b[39m(\u001b[38;5;28mself\u001b[39m.stream)\n",
      "\u001b[36mFile \u001b[39m\u001b[32m~\\AppData\\Local\\Packages\\PythonSoftwareFoundation.Python.3.13_qbz5n2kfra8p0\\LocalCache\\local-packages\\Python313\\site-packages\\Bio\\SeqIO\\Interfaces.py:81\u001b[39m, in \u001b[36mSequenceIterator.__init__\u001b[39m\u001b[34m(self, source, alphabet, fmt)\u001b[39m\n\u001b[32m     79\u001b[39m \u001b[38;5;28;01mif\u001b[39;00m \u001b[38;5;28misinstance\u001b[39m(source, _PathLikeTypes):\n\u001b[32m     80\u001b[39m     mode = modes[\u001b[32m0\u001b[39m]\n\u001b[32m---> \u001b[39m\u001b[32m81\u001b[39m     \u001b[38;5;28mself\u001b[39m.stream = \u001b[38;5;28;43mopen\u001b[39;49m\u001b[43m(\u001b[49m\u001b[43msource\u001b[49m\u001b[43m,\u001b[49m\u001b[43m \u001b[49m\u001b[33;43m\"\u001b[39;49m\u001b[33;43mr\u001b[39;49m\u001b[33;43m\"\u001b[39;49m\u001b[43m \u001b[49m\u001b[43m+\u001b[49m\u001b[43m \u001b[49m\u001b[43mmode\u001b[49m\u001b[43m)\u001b[49m\n\u001b[32m     82\u001b[39m \u001b[38;5;28;01melse\u001b[39;00m:\n\u001b[32m     83\u001b[39m     value = source.read(\u001b[32m0\u001b[39m)\n",
      "\u001b[31mFileNotFoundError\u001b[39m: [Errno 2] No such file or directory: '../data/genome.fasta'"
     ]
    }
   ],
   "source": [
    "from Bio import SeqIO\n",
    "import pandas as pd\n",
    "\n",
    "# Load FASTA\n",
    "fasta_path = \"../data/genome.fasta\"  # change as needed\n",
    "records = list(SeqIO.parse(fasta_path, \"fasta\"))\n",
    "\n",
    "# Extract gene names & lengths\n",
    "gene_data = []\n",
    "for record in records:\n",
    "    gene_data.append({\n",
    "        \"gene_id\": record.id,\n",
    "        \"length\": len(record.seq)\n",
    "    })\n",
    "\n",
    "# Save to CSV\n",
    "df = pd.DataFrame(gene_data)\n",
    "df.to_csv(\"../results/gene_info.csv\", index=False)\n",
    "df.head()"
   ]
  },
  {
   "cell_type": "code",
   "execution_count": 2,
   "id": "7314956e-a794-4e01-90f9-0ffe3c4d6f45",
   "metadata": {},
   "outputs": [
    {
     "name": "stdout",
     "output_type": "stream",
     "text": [
      "[WindowsPath('../data/GCA_000009725.1'), WindowsPath('../data/ncbi_dataset (2).zip')]\n"
     ]
    }
   ],
   "source": [
    "from pathlib import Path\n",
    "\n",
    "data_path = Path(\"../data\")\n",
    "print(list(data_path.glob(\"*\")))\n"
   ]
  },
  {
   "cell_type": "code",
   "execution_count": 3,
   "id": "11a1bbc9-ddb1-49d4-a798-c57cdae32210",
   "metadata": {},
   "outputs": [
    {
     "ename": "PermissionError",
     "evalue": "[Errno 13] Permission denied: '../data/GCA_000009725.1'",
     "output_type": "error",
     "traceback": [
      "\u001b[31m---------------------------------------------------------------------------\u001b[39m",
      "\u001b[31mPermissionError\u001b[39m                           Traceback (most recent call last)",
      "\u001b[36mCell\u001b[39m\u001b[36m \u001b[39m\u001b[32mIn[3]\u001b[39m\u001b[32m, line 8\u001b[39m\n\u001b[32m      5\u001b[39m fasta_path = \u001b[33m\"\u001b[39m\u001b[33m../data/GCA_000009725.1\u001b[39m\u001b[33m\"\u001b[39m  \u001b[38;5;66;03m# no .fasta needed if it's really FASTA format\u001b[39;00m\n\u001b[32m      7\u001b[39m \u001b[38;5;66;03m# Load sequences\u001b[39;00m\n\u001b[32m----> \u001b[39m\u001b[32m8\u001b[39m records = \u001b[38;5;28mlist\u001b[39m(\u001b[43mSeqIO\u001b[49m\u001b[43m.\u001b[49m\u001b[43mparse\u001b[49m\u001b[43m(\u001b[49m\u001b[43mfasta_path\u001b[49m\u001b[43m,\u001b[49m\u001b[43m \u001b[49m\u001b[33;43m\"\u001b[39;49m\u001b[33;43mfasta\u001b[39;49m\u001b[33;43m\"\u001b[39;49m\u001b[43m)\u001b[49m)\n\u001b[32m     10\u001b[39m \u001b[38;5;66;03m# Extract gene names & lengths\u001b[39;00m\n\u001b[32m     11\u001b[39m gene_data = []\n",
      "\u001b[36mFile \u001b[39m\u001b[32m~\\AppData\\Local\\Packages\\PythonSoftwareFoundation.Python.3.13_qbz5n2kfra8p0\\LocalCache\\local-packages\\Python313\\site-packages\\Bio\\SeqIO\\__init__.py:626\u001b[39m, in \u001b[36mparse\u001b[39m\u001b[34m(handle, format, alphabet)\u001b[39m\n\u001b[32m    624\u001b[39m iterator_generator = _FormatToIterator.get(\u001b[38;5;28mformat\u001b[39m)\n\u001b[32m    625\u001b[39m \u001b[38;5;28;01mif\u001b[39;00m iterator_generator:\n\u001b[32m--> \u001b[39m\u001b[32m626\u001b[39m     \u001b[38;5;28;01mreturn\u001b[39;00m \u001b[43miterator_generator\u001b[49m\u001b[43m(\u001b[49m\u001b[43mhandle\u001b[49m\u001b[43m)\u001b[49m\n\u001b[32m    627\u001b[39m \u001b[38;5;28;01mif\u001b[39;00m \u001b[38;5;28mformat\u001b[39m \u001b[38;5;129;01min\u001b[39;00m AlignIO._FormatToIterator:\n\u001b[32m    628\u001b[39m     \u001b[38;5;66;03m# Use Bio.AlignIO to read in the alignments\u001b[39;00m\n\u001b[32m    629\u001b[39m     \u001b[38;5;28;01mreturn\u001b[39;00m (r \u001b[38;5;28;01mfor\u001b[39;00m alignment \u001b[38;5;129;01min\u001b[39;00m AlignIO.parse(handle, \u001b[38;5;28mformat\u001b[39m) \u001b[38;5;28;01mfor\u001b[39;00m r \u001b[38;5;129;01min\u001b[39;00m alignment)\n",
      "\u001b[36mFile \u001b[39m\u001b[32m~\\AppData\\Local\\Packages\\PythonSoftwareFoundation.Python.3.13_qbz5n2kfra8p0\\LocalCache\\local-packages\\Python313\\site-packages\\Bio\\SeqIO\\FastaIO.py:196\u001b[39m, in \u001b[36mFastaIterator.__init__\u001b[39m\u001b[34m(self, source, alphabet)\u001b[39m\n\u001b[32m    194\u001b[39m \u001b[38;5;28;01mif\u001b[39;00m alphabet \u001b[38;5;129;01mis\u001b[39;00m \u001b[38;5;129;01mnot\u001b[39;00m \u001b[38;5;28;01mNone\u001b[39;00m:\n\u001b[32m    195\u001b[39m     \u001b[38;5;28;01mraise\u001b[39;00m \u001b[38;5;167;01mValueError\u001b[39;00m(\u001b[33m\"\u001b[39m\u001b[33mThe alphabet argument is no longer supported\u001b[39m\u001b[33m\"\u001b[39m)\n\u001b[32m--> \u001b[39m\u001b[32m196\u001b[39m \u001b[38;5;28;43msuper\u001b[39;49m\u001b[43m(\u001b[49m\u001b[43m)\u001b[49m\u001b[43m.\u001b[49m\u001b[34;43m__init__\u001b[39;49m\u001b[43m(\u001b[49m\u001b[43msource\u001b[49m\u001b[43m,\u001b[49m\u001b[43m \u001b[49m\u001b[43mfmt\u001b[49m\u001b[43m=\u001b[49m\u001b[33;43m\"\u001b[39;49m\u001b[33;43mFasta\u001b[39;49m\u001b[33;43m\"\u001b[39;49m\u001b[43m)\u001b[49m\n\u001b[32m    197\u001b[39m \u001b[38;5;28;01mtry\u001b[39;00m:\n\u001b[32m    198\u001b[39m     line = \u001b[38;5;28mnext\u001b[39m(\u001b[38;5;28mself\u001b[39m.stream)\n",
      "\u001b[36mFile \u001b[39m\u001b[32m~\\AppData\\Local\\Packages\\PythonSoftwareFoundation.Python.3.13_qbz5n2kfra8p0\\LocalCache\\local-packages\\Python313\\site-packages\\Bio\\SeqIO\\Interfaces.py:81\u001b[39m, in \u001b[36mSequenceIterator.__init__\u001b[39m\u001b[34m(self, source, alphabet, fmt)\u001b[39m\n\u001b[32m     79\u001b[39m \u001b[38;5;28;01mif\u001b[39;00m \u001b[38;5;28misinstance\u001b[39m(source, _PathLikeTypes):\n\u001b[32m     80\u001b[39m     mode = modes[\u001b[32m0\u001b[39m]\n\u001b[32m---> \u001b[39m\u001b[32m81\u001b[39m     \u001b[38;5;28mself\u001b[39m.stream = \u001b[38;5;28;43mopen\u001b[39;49m\u001b[43m(\u001b[49m\u001b[43msource\u001b[49m\u001b[43m,\u001b[49m\u001b[43m \u001b[49m\u001b[33;43m\"\u001b[39;49m\u001b[33;43mr\u001b[39;49m\u001b[33;43m\"\u001b[39;49m\u001b[43m \u001b[49m\u001b[43m+\u001b[49m\u001b[43m \u001b[49m\u001b[43mmode\u001b[49m\u001b[43m)\u001b[49m\n\u001b[32m     82\u001b[39m \u001b[38;5;28;01melse\u001b[39;00m:\n\u001b[32m     83\u001b[39m     value = source.read(\u001b[32m0\u001b[39m)\n",
      "\u001b[31mPermissionError\u001b[39m: [Errno 13] Permission denied: '../data/GCA_000009725.1'"
     ]
    }
   ],
   "source": [
    "from Bio import SeqIO\n",
    "import pandas as pd\n",
    "\n",
    "# Use the existing filename\n",
    "fasta_path = \"../data/GCA_000009725.1\"  # no .fasta needed if it's really FASTA format\n",
    "\n",
    "# Load sequences\n",
    "records = list(SeqIO.parse(fasta_path, \"fasta\"))\n",
    "\n",
    "# Extract gene names & lengths\n",
    "gene_data = []\n",
    "for record in records:\n",
    "    gene_data.append({\n",
    "        \"gene_id\": record.id,\n",
    "        \"length\": len(record.seq)\n",
    "    })\n",
    "\n",
    "# Save to CSV\n",
    "df = pd.DataFrame(gene_data)\n",
    "df.to_csv(\"../results/gene_info.csv\", index=False)\n",
    "\n",
    "# Preview first few rows\n",
    "df.head()\n"
   ]
  },
  {
   "cell_type": "code",
   "execution_count": 4,
   "id": "682b1254-91a0-4940-9d27-5edde2b77167",
   "metadata": {},
   "outputs": [
    {
     "ename": "PermissionError",
     "evalue": "[Errno 13] Permission denied: '../data/GCA_000009725.1'",
     "output_type": "error",
     "traceback": [
      "\u001b[31m---------------------------------------------------------------------------\u001b[39m",
      "\u001b[31mPermissionError\u001b[39m                           Traceback (most recent call last)",
      "\u001b[36mCell\u001b[39m\u001b[36m \u001b[39m\u001b[32mIn[4]\u001b[39m\u001b[32m, line 7\u001b[39m\n\u001b[32m      4\u001b[39m fasta_path = \u001b[33m\"\u001b[39m\u001b[33m../data/GCA_000009725.1\u001b[39m\u001b[33m\"\u001b[39m\n\u001b[32m      6\u001b[39m \u001b[38;5;66;03m# Explicitly open the file to avoid permission issues\u001b[39;00m\n\u001b[32m----> \u001b[39m\u001b[32m7\u001b[39m \u001b[38;5;28;01mwith\u001b[39;00m \u001b[38;5;28;43mopen\u001b[39;49m\u001b[43m(\u001b[49m\u001b[43mfasta_path\u001b[49m\u001b[43m,\u001b[49m\u001b[43m \u001b[49m\u001b[33;43m\"\u001b[39;49m\u001b[33;43mr\u001b[39;49m\u001b[33;43m\"\u001b[39;49m\u001b[43m,\u001b[49m\u001b[43m \u001b[49m\u001b[43mencoding\u001b[49m\u001b[43m=\u001b[49m\u001b[33;43m\"\u001b[39;49m\u001b[33;43mutf-8\u001b[39;49m\u001b[33;43m\"\u001b[39;49m\u001b[43m,\u001b[49m\u001b[43m \u001b[49m\u001b[43merrors\u001b[49m\u001b[43m=\u001b[49m\u001b[33;43m\"\u001b[39;49m\u001b[33;43mignore\u001b[39;49m\u001b[33;43m\"\u001b[39;49m\u001b[43m)\u001b[49m \u001b[38;5;28;01mas\u001b[39;00m handle:\n\u001b[32m      8\u001b[39m     records = \u001b[38;5;28mlist\u001b[39m(SeqIO.parse(handle, \u001b[33m\"\u001b[39m\u001b[33mfasta\u001b[39m\u001b[33m\"\u001b[39m))\n\u001b[32m     10\u001b[39m \u001b[38;5;66;03m# Process sequences\u001b[39;00m\n",
      "\u001b[36mFile \u001b[39m\u001b[32m~\\AppData\\Local\\Packages\\PythonSoftwareFoundation.Python.3.13_qbz5n2kfra8p0\\LocalCache\\local-packages\\Python313\\site-packages\\IPython\\core\\interactiveshell.py:343\u001b[39m, in \u001b[36m_modified_open\u001b[39m\u001b[34m(file, *args, **kwargs)\u001b[39m\n\u001b[32m    336\u001b[39m \u001b[38;5;28;01mif\u001b[39;00m file \u001b[38;5;129;01min\u001b[39;00m {\u001b[32m0\u001b[39m, \u001b[32m1\u001b[39m, \u001b[32m2\u001b[39m}:\n\u001b[32m    337\u001b[39m     \u001b[38;5;28;01mraise\u001b[39;00m \u001b[38;5;167;01mValueError\u001b[39;00m(\n\u001b[32m    338\u001b[39m         \u001b[33mf\u001b[39m\u001b[33m\"\u001b[39m\u001b[33mIPython won\u001b[39m\u001b[33m'\u001b[39m\u001b[33mt let you open fd=\u001b[39m\u001b[38;5;132;01m{\u001b[39;00mfile\u001b[38;5;132;01m}\u001b[39;00m\u001b[33m by default \u001b[39m\u001b[33m\"\u001b[39m\n\u001b[32m    339\u001b[39m         \u001b[33m\"\u001b[39m\u001b[33mas it is likely to crash IPython. If you know what you are doing, \u001b[39m\u001b[33m\"\u001b[39m\n\u001b[32m    340\u001b[39m         \u001b[33m\"\u001b[39m\u001b[33myou can use builtins\u001b[39m\u001b[33m'\u001b[39m\u001b[33m open.\u001b[39m\u001b[33m\"\u001b[39m\n\u001b[32m    341\u001b[39m     )\n\u001b[32m--> \u001b[39m\u001b[32m343\u001b[39m \u001b[38;5;28;01mreturn\u001b[39;00m \u001b[43mio_open\u001b[49m\u001b[43m(\u001b[49m\u001b[43mfile\u001b[49m\u001b[43m,\u001b[49m\u001b[43m \u001b[49m\u001b[43m*\u001b[49m\u001b[43margs\u001b[49m\u001b[43m,\u001b[49m\u001b[43m \u001b[49m\u001b[43m*\u001b[49m\u001b[43m*\u001b[49m\u001b[43mkwargs\u001b[49m\u001b[43m)\u001b[49m\n",
      "\u001b[31mPermissionError\u001b[39m: [Errno 13] Permission denied: '../data/GCA_000009725.1'"
     ]
    }
   ],
   "source": [
    "from Bio import SeqIO\n",
    "import pandas as pd\n",
    "\n",
    "fasta_path = \"../data/GCA_000009725.1\"\n",
    "\n",
    "# Explicitly open the file to avoid permission issues\n",
    "with open(fasta_path, \"r\", encoding=\"utf-8\", errors=\"ignore\") as handle:\n",
    "    records = list(SeqIO.parse(handle, \"fasta\"))\n",
    "\n",
    "# Process sequences\n",
    "gene_data = [{\"gene_id\": rec.id, \"length\": len(rec.seq)} for rec in records]\n",
    "\n",
    "df = pd.DataFrame(gene_data)\n",
    "df.to_csv(\"../results/gene_info.csv\", index=False)\n",
    "df.head()"
   ]
  },
  {
   "cell_type": "code",
   "execution_count": null,
   "id": "d952df22-2199-4d8c-bf20-a9da2d2a87d3",
   "metadata": {},
   "outputs": [],
   "source": []
  }
 ],
 "metadata": {
  "kernelspec": {
   "display_name": "Python 3 (ipykernel)",
   "language": "python",
   "name": "python3"
  },
  "language_info": {
   "codemirror_mode": {
    "name": "ipython",
    "version": 3
   },
   "file_extension": ".py",
   "mimetype": "text/x-python",
   "name": "python",
   "nbconvert_exporter": "python",
   "pygments_lexer": "ipython3",
   "version": "3.13.7"
  }
 },
 "nbformat": 4,
 "nbformat_minor": 5
}
